{
 "cells": [
  {
   "cell_type": "code",
   "execution_count": 1,
   "id": "5ceb67cc",
   "metadata": {},
   "outputs": [],
   "source": [
    "import pandas as pd\n",
    "import requests\n",
    "import json\n",
    "from datetime import datetime as dt\n",
    "from datetime import timedelta\n",
    "pd.set_option('display.float_format', lambda x: '%.5f' % x)\n",
    "import math"
   ]
  },
  {
   "cell_type": "code",
   "execution_count": 2,
   "id": "646455ca",
   "metadata": {},
   "outputs": [],
   "source": [
    "#Config \n",
    "dd  = dt(2022,6,26)"
   ]
  },
  {
   "cell_type": "code",
   "execution_count": 3,
   "id": "07bf7c71",
   "metadata": {},
   "outputs": [],
   "source": [
    "odd = dd - timedelta(days=7)\n",
    "date = dd.strftime('%m-%d-%Y')\n",
    "o_date = odd.strftime('%m-%d-%Y')"
   ]
  },
  {
   "cell_type": "code",
   "execution_count": 4,
   "id": "5c46cfaf",
   "metadata": {},
   "outputs": [],
   "source": [
    "try:\n",
    "    v1_req = requests.get(\"https://aave-api-v2.aave.com/data/liquidity/v1?poolId=0x24a42fd28c976a61df5d00d0599c34c4f90748c8&date=\" + date)\n",
    "    v1 = pd.json_normalize(json.loads(v1_req.text))\n",
    "    v1_req_old = requests.get(\"https://aave-api-v2.aave.com/data/liquidity/v1?poolId=0x24a42fd28c976a61df5d00d0599c34c4f90748c8&date=\" + o_date)\n",
    "    v1_old = pd.json_normalize(json.loads(v1_req_old.text))\n",
    "except: \n",
    "    print('V1 ERROR')\n",
    "try:\n",
    "    v2_req = requests.get(\"https://aave-api-v2.aave.com/data/liquidity/v2?poolId=0xb53c1a33016b2dc2ff3653530bff1848a515c8c5&date=\" + date)\n",
    "    v2 = pd.json_normalize(json.loads(v2_req.text))\n",
    "    v2_req_old = requests.get(\"https://aave-api-v2.aave.com/data/liquidity/v2?poolId=0xb53c1a33016b2dc2ff3653530bff1848a515c8c5&date=\" + o_date)\n",
    "    v2_old = pd.json_normalize(json.loads(v2_req_old.text))\n",
    "except: \n",
    "    print('V2 ERROR')\n",
    "try:\n",
    "    amm_req = requests.get(\"https://aave-api-v2.aave.com/data/liquidity/v2?poolId=0xacc030ef66f9dfeae9cbb0cd1b25654b82cfa8d5&date=\" + date)\n",
    "    amm = pd.json_normalize(json.loads(amm_req.text))\n",
    "    amm_req_old = requests.get(\"https://aave-api-v2.aave.com/data/liquidity/v2?poolId=0xacc030ef66f9dfeae9cbb0cd1b25654b82cfa8d5&date=\" + o_date)\n",
    "    amm_old = pd.json_normalize(json.loads(amm_req_old.text))\n",
    "except: \n",
    "    print('AMM ERROR')\n",
    "try:\n",
    "    polygon_req = requests.get(\"https://aave-api-v2.aave.com/data/liquidity/v2?poolId=0xd05e3e715d945b59290df0ae8ef85c1bdb684744&date=\" + date)\n",
    "    polygon = pd.json_normalize(json.loads(polygon_req.text))\n",
    "    polygon_req_old = requests.get(\"https://aave-api-v2.aave.com/data/liquidity/v2?poolId=0xd05e3e715d945b59290df0ae8ef85c1bdb684744&date=\" + o_date)\n",
    "    polygon_old = pd.json_normalize(json.loads(polygon_req_old.text))\n",
    "except: \n",
    "    print('Polygon ERROR')\n",
    "try:\n",
    "    avax_req = requests.get(\"https://aave-api-v2.aave.com/data/liquidity/v2?poolId=0xb6a86025f0fe1862b372cb0ca18ce3ede02a318f&date=\" + date)\n",
    "    avax = pd.json_normalize(json.loads(avax_req.text))\n",
    "    avax_req_old = requests.get(\"https://aave-api-v2.aave.com/data/liquidity/v2?poolId=0xb6a86025f0fe1862b372cb0ca18ce3ede02a318f&date=\" + o_date)\n",
    "    avax_old = pd.json_normalize(json.loads(avax_req_old.text))\n",
    "except: \n",
    "    print('AVAX ERROR')\n",
    "try:\n",
    "    stk_req = requests.get(\"https://aave-api-v2.aave.com/data/pools\")\n",
    "    stk = pd.json_normalize(json.loads(stk_req.text))\n",
    "except:\n",
    "    print('POOLS ERROR')"
   ]
  },
  {
   "cell_type": "markdown",
   "id": "4b81696c",
   "metadata": {},
   "source": [
    "# Symbol Conversion"
   ]
  },
  {
   "cell_type": "code",
   "execution_count": 5,
   "id": "93b69b24",
   "metadata": {},
   "outputs": [
    {
     "name": "stderr",
     "output_type": "stream",
     "text": [
      "/var/folders/_n/tn6737qj6tg3h8j4vjr026ww0000gn/T/ipykernel_47010/178790247.py:1: FutureWarning: The default value of regex will change from True to False in a future version.\n",
      "  avax['symbol'] = avax['symbol'].str.replace('.e','')\n",
      "/var/folders/_n/tn6737qj6tg3h8j4vjr026ww0000gn/T/ipykernel_47010/178790247.py:2: FutureWarning: The default value of regex will change from True to False in a future version.\n",
      "  avax_old['symbol'] = avax_old['symbol'].str.replace('.e','')\n"
     ]
    }
   ],
   "source": [
    "avax['symbol'] = avax['symbol'].str.replace('.e','')\n",
    "avax_old['symbol'] = avax_old['symbol'].str.replace('.e','')"
   ]
  },
  {
   "cell_type": "code",
   "execution_count": 6,
   "id": "8ac8fe06",
   "metadata": {},
   "outputs": [],
   "source": [
    "v1.loc[v1['symbol'] == 'WETH',['symbol']] = 'ETH'\n",
    "v1_old.loc[v1_old['symbol'] == 'WETH',['symbol']] = 'ETH'\n",
    "v2.loc[v2['symbol'] == 'WETH',['symbol']] = 'ETH'\n",
    "v2_old.loc[v2_old['symbol'] == 'WETH',['symbol']] = 'ETH'\n",
    "polygon.loc[polygon['symbol'] == 'WETH',['symbol']] = 'ETH'\n",
    "polygon_old.loc[polygon_old['symbol'] == 'WETH',['symbol']] = 'ETH'\n",
    "avax.loc[avax['symbol'] == 'WETH',['symbol']] = 'ETH'\n",
    "avax_old.loc[avax_old['symbol'] == 'WETH',['symbol']] = 'ETH'"
   ]
  },
  {
   "cell_type": "code",
   "execution_count": 7,
   "id": "72a33ba4",
   "metadata": {},
   "outputs": [],
   "source": [
    "polygon.loc[polygon['symbol'] == 'WMATIC',['symbol']] = 'MATIC'\n",
    "polygon_old.loc[polygon_old['symbol'] == 'WMATIC',['symbol']] = 'MATIC'"
   ]
  },
  {
   "cell_type": "code",
   "execution_count": 8,
   "id": "bfa042a5",
   "metadata": {},
   "outputs": [],
   "source": [
    "v2.loc[v2['symbol'] == 'RENFIL',['symbol']] = 'RenFIL'\n",
    "v2_old.loc[v2_old['symbol'] == 'RENFIL',['symbol']] = 'RenFIL'"
   ]
  },
  {
   "cell_type": "code",
   "execution_count": 9,
   "id": "b2de0c9c",
   "metadata": {},
   "outputs": [],
   "source": [
    "v1.loc[v1['symbol'] == 'SUSD',['symbol']] = 'sUSD'\n",
    "v1_old.loc[v1_old['symbol'] == 'SUSD',['symbol']] = 'sUSD'\n",
    "v2.loc[v2['symbol'] == 'SUSD',['symbol']] = 'sUSD'\n",
    "v2_old.loc[v2_old['symbol'] == 'SUSD',['symbol']] = 'sUSD'"
   ]
  },
  {
   "cell_type": "code",
   "execution_count": 10,
   "id": "d8f356ab",
   "metadata": {},
   "outputs": [],
   "source": [
    "amm['symbol'] = amm['symbol'].str.replace('Amm','')\n",
    "amm_old['symbol'] = amm_old['symbol'].str.replace('Amm','')"
   ]
  },
  {
   "cell_type": "code",
   "execution_count": 11,
   "id": "54286c5a",
   "metadata": {},
   "outputs": [],
   "source": [
    "amm.loc[amm['symbol'] == 'WETH',['symbol']] = 'ETH'\n",
    "amm_old.loc[amm_old['symbol'] == 'WETH',['symbol']] = 'ETH'"
   ]
  },
  {
   "cell_type": "code",
   "execution_count": 12,
   "id": "df1b1294",
   "metadata": {},
   "outputs": [],
   "source": [
    "all_symbols  = set(v1['symbol']).union(set(v2['symbol'])).union(set(amm['symbol'])).union(set(polygon['symbol'])).union(set(avax['symbol']))"
   ]
  },
  {
   "cell_type": "code",
   "execution_count": 13,
   "id": "fc28c7ae",
   "metadata": {},
   "outputs": [],
   "source": [
    "symbols = pd.DataFrame(all_symbols).rename(columns={0:'symbol'})"
   ]
  },
  {
   "cell_type": "code",
   "execution_count": 14,
   "id": "ef26cf57",
   "metadata": {},
   "outputs": [],
   "source": [
    "symbols['symbol'] = symbols['symbol'].drop_duplicates()\n",
    "symbols = symbols.loc[symbols['symbol'].isna() ==False]"
   ]
  },
  {
   "cell_type": "code",
   "execution_count": 15,
   "id": "2ec5fe99",
   "metadata": {},
   "outputs": [],
   "source": [
    "coins = pd.read_csv('coins.csv',header=None)"
   ]
  },
  {
   "cell_type": "code",
   "execution_count": 16,
   "id": "f5938ef6",
   "metadata": {},
   "outputs": [],
   "source": [
    "#pd.DataFrame({0:['CVX','ENS','GHST']})"
   ]
  },
  {
   "cell_type": "code",
   "execution_count": 17,
   "id": "f443cb44",
   "metadata": {},
   "outputs": [],
   "source": [
    "symbols = symbols.sort_values('symbol')"
   ]
  },
  {
   "cell_type": "code",
   "execution_count": 18,
   "id": "02884bb4",
   "metadata": {},
   "outputs": [
    {
     "data": {
      "text/html": [
       "<div>\n",
       "<style scoped>\n",
       "    .dataframe tbody tr th:only-of-type {\n",
       "        vertical-align: middle;\n",
       "    }\n",
       "\n",
       "    .dataframe tbody tr th {\n",
       "        vertical-align: top;\n",
       "    }\n",
       "\n",
       "    .dataframe thead th {\n",
       "        text-align: right;\n",
       "    }\n",
       "</style>\n",
       "<table border=\"1\" class=\"dataframe\">\n",
       "  <thead>\n",
       "    <tr style=\"text-align: right;\">\n",
       "      <th></th>\n",
       "      <th>symbol</th>\n",
       "    </tr>\n",
       "  </thead>\n",
       "  <tbody>\n",
       "    <tr>\n",
       "      <th>37</th>\n",
       "      <td>BptBALWETH</td>\n",
       "    </tr>\n",
       "    <tr>\n",
       "      <th>38</th>\n",
       "      <td>BptWBTCWETH</td>\n",
       "    </tr>\n",
       "    <tr>\n",
       "      <th>36</th>\n",
       "      <td>CVX</td>\n",
       "    </tr>\n",
       "    <tr>\n",
       "      <th>28</th>\n",
       "      <td>ENS</td>\n",
       "    </tr>\n",
       "    <tr>\n",
       "      <th>39</th>\n",
       "      <td>GHST</td>\n",
       "    </tr>\n",
       "    <tr>\n",
       "      <th>55</th>\n",
       "      <td>GUniDAIUSDC</td>\n",
       "    </tr>\n",
       "    <tr>\n",
       "      <th>29</th>\n",
       "      <td>GUniUSDCUSDT</td>\n",
       "    </tr>\n",
       "    <tr>\n",
       "      <th>21</th>\n",
       "      <td>MATIC</td>\n",
       "    </tr>\n",
       "    <tr>\n",
       "      <th>41</th>\n",
       "      <td>STETH</td>\n",
       "    </tr>\n",
       "    <tr>\n",
       "      <th>1</th>\n",
       "      <td>SUSHI</td>\n",
       "    </tr>\n",
       "    <tr>\n",
       "      <th>7</th>\n",
       "      <td>UST</td>\n",
       "    </tr>\n",
       "    <tr>\n",
       "      <th>56</th>\n",
       "      <td>UniAAVEWETH</td>\n",
       "    </tr>\n",
       "    <tr>\n",
       "      <th>27</th>\n",
       "      <td>UniBATWETH</td>\n",
       "    </tr>\n",
       "    <tr>\n",
       "      <th>46</th>\n",
       "      <td>UniCRVWETH</td>\n",
       "    </tr>\n",
       "    <tr>\n",
       "      <th>26</th>\n",
       "      <td>UniDAIUSDC</td>\n",
       "    </tr>\n",
       "    <tr>\n",
       "      <th>42</th>\n",
       "      <td>UniDAIWETH</td>\n",
       "    </tr>\n",
       "    <tr>\n",
       "      <th>30</th>\n",
       "      <td>UniLINKWETH</td>\n",
       "    </tr>\n",
       "    <tr>\n",
       "      <th>44</th>\n",
       "      <td>UniMKRWETH</td>\n",
       "    </tr>\n",
       "    <tr>\n",
       "      <th>18</th>\n",
       "      <td>UniRENWETH</td>\n",
       "    </tr>\n",
       "    <tr>\n",
       "      <th>10</th>\n",
       "      <td>UniSNXWETH</td>\n",
       "    </tr>\n",
       "    <tr>\n",
       "      <th>45</th>\n",
       "      <td>UniUNIWETH</td>\n",
       "    </tr>\n",
       "    <tr>\n",
       "      <th>32</th>\n",
       "      <td>UniUSDCWETH</td>\n",
       "    </tr>\n",
       "    <tr>\n",
       "      <th>43</th>\n",
       "      <td>UniWBTCUSDC</td>\n",
       "    </tr>\n",
       "    <tr>\n",
       "      <th>4</th>\n",
       "      <td>UniWBTCWETH</td>\n",
       "    </tr>\n",
       "    <tr>\n",
       "      <th>57</th>\n",
       "      <td>UniYFIWETH</td>\n",
       "    </tr>\n",
       "  </tbody>\n",
       "</table>\n",
       "</div>"
      ],
      "text/plain": [
       "          symbol\n",
       "37    BptBALWETH\n",
       "38   BptWBTCWETH\n",
       "36           CVX\n",
       "28           ENS\n",
       "39          GHST\n",
       "55   GUniDAIUSDC\n",
       "29  GUniUSDCUSDT\n",
       "21         MATIC\n",
       "41         STETH\n",
       "1          SUSHI\n",
       "7            UST\n",
       "56   UniAAVEWETH\n",
       "27    UniBATWETH\n",
       "46    UniCRVWETH\n",
       "26    UniDAIUSDC\n",
       "42    UniDAIWETH\n",
       "30   UniLINKWETH\n",
       "44    UniMKRWETH\n",
       "18    UniRENWETH\n",
       "10    UniSNXWETH\n",
       "45    UniUNIWETH\n",
       "32   UniUSDCWETH\n",
       "43   UniWBTCUSDC\n",
       "4    UniWBTCWETH\n",
       "57    UniYFIWETH"
      ]
     },
     "execution_count": 18,
     "metadata": {},
     "output_type": "execute_result"
    }
   ],
   "source": [
    "#These are not in the current dashboard\n",
    "symbols.loc[~symbols['symbol'].isin(coins[0])]"
   ]
  },
  {
   "cell_type": "markdown",
   "id": "72724236",
   "metadata": {},
   "source": [
    "# Combine Prices"
   ]
  },
  {
   "cell_type": "code",
   "execution_count": 19,
   "id": "b100595c",
   "metadata": {},
   "outputs": [],
   "source": [
    "v2_prices = symbols.merge(v2[['symbol','referenceItem.priceInUsd']],on='symbol',how='left').merge(v2_old[['symbol','referenceItem.priceInUsd']],on='symbol',how='outer')\n",
    "v2_prices = v2_prices.loc[v2_prices['referenceItem.priceInUsd_x'].isna()==False]"
   ]
  },
  {
   "cell_type": "code",
   "execution_count": 20,
   "id": "cefdc254",
   "metadata": {},
   "outputs": [],
   "source": [
    "amm_prices = symbols.loc[~symbols['symbol'].isin(v2_prices['symbol'])]\n",
    "amm_prices = amm_prices[['symbol']].merge(amm[['symbol','referenceItem.priceInUsd']],on='symbol',how='left').merge(amm_old[['symbol','referenceItem.priceInUsd']],on='symbol',how='left')\n",
    "amm_prices = amm_prices.loc[amm_prices['referenceItem.priceInUsd_x'].isna()==False]"
   ]
  },
  {
   "cell_type": "code",
   "execution_count": 21,
   "id": "b0520236",
   "metadata": {},
   "outputs": [],
   "source": [
    "avax_prices = symbols.loc[(~symbols['symbol'].isin(v2_prices['symbol'])) & (~symbols['symbol'].isin(amm['symbol']))]\n",
    "avax_prices = avax_prices[['symbol']].merge(avax[['symbol','referenceItem.priceInUsd']],on='symbol',how='left').merge(avax_old[['symbol','referenceItem.priceInUsd']],on='symbol',how='left')\n",
    "avax_prices = avax_prices.loc[avax_prices['referenceItem.priceInUsd_x'].isna()==False]"
   ]
  },
  {
   "cell_type": "code",
   "execution_count": 22,
   "id": "de6e8cc6",
   "metadata": {},
   "outputs": [],
   "source": [
    "polygon_prices = symbols.loc[(~symbols['symbol'].isin(v2_prices['symbol'])) & (~symbols['symbol'].isin(amm_prices['symbol'])) & (~symbols['symbol'].isin(avax_prices['symbol']))]\n",
    "polygon_prices = polygon_prices[['symbol']].merge(polygon[['symbol','referenceItem.priceInUsd']],on='symbol',how='left').merge(polygon_old[['symbol','referenceItem.priceInUsd']],on='symbol',how='left')\n",
    "polygon_prices = polygon_prices.loc[polygon_prices['referenceItem.priceInUsd_x'].isna()==False]"
   ]
  },
  {
   "cell_type": "code",
   "execution_count": 23,
   "id": "6811af2e",
   "metadata": {},
   "outputs": [],
   "source": [
    "v1_prices = symbols.loc[(~symbols['symbol'].isin(v2_prices['symbol'])) & (~symbols['symbol'].isin(amm_prices['symbol'])) & (~symbols['symbol'].isin(avax_prices['symbol'])) & (~symbols['symbol'].isin(polygon_prices['symbol']))]\n",
    "v1_prices = v1_prices[['symbol']].merge(v1[['symbol','referenceItem.priceInUsd']],on='symbol',how='left').merge(v1_old[['symbol','referenceItem.priceInUsd']],on='symbol',how='left')\n",
    "v1_prices = v1_prices.loc[v1_prices['referenceItem.priceInUsd_x'].isna()==False]"
   ]
  },
  {
   "cell_type": "code",
   "execution_count": 24,
   "id": "343d9c5c",
   "metadata": {},
   "outputs": [
    {
     "data": {
      "text/html": [
       "<div>\n",
       "<style scoped>\n",
       "    .dataframe tbody tr th:only-of-type {\n",
       "        vertical-align: middle;\n",
       "    }\n",
       "\n",
       "    .dataframe tbody tr th {\n",
       "        vertical-align: top;\n",
       "    }\n",
       "\n",
       "    .dataframe thead th {\n",
       "        text-align: right;\n",
       "    }\n",
       "</style>\n",
       "<table border=\"1\" class=\"dataframe\">\n",
       "  <thead>\n",
       "    <tr style=\"text-align: right;\">\n",
       "      <th></th>\n",
       "      <th>symbol</th>\n",
       "    </tr>\n",
       "  </thead>\n",
       "  <tbody>\n",
       "  </tbody>\n",
       "</table>\n",
       "</div>"
      ],
      "text/plain": [
       "Empty DataFrame\n",
       "Columns: [symbol]\n",
       "Index: []"
      ]
     },
     "execution_count": 24,
     "metadata": {},
     "output_type": "execute_result"
    }
   ],
   "source": [
    "#This should be empty\n",
    "symbols.loc[(~symbols['symbol'].isin(v2_prices['symbol'])) & (~symbols['symbol'].isin(amm_prices['symbol'])) & (~symbols['symbol'].isin(avax_prices['symbol'])) & (~symbols['symbol'].isin(polygon_prices['symbol']))& (~symbols['symbol'].isin(v1_prices['symbol']))]"
   ]
  },
  {
   "cell_type": "code",
   "execution_count": 25,
   "id": "7c0f609f",
   "metadata": {},
   "outputs": [],
   "source": [
    "prices = pd.concat([v2_prices,amm_prices,avax_prices,polygon_prices,v1_prices])\n",
    "prices= prices.sort_values('symbol').reset_index().drop(columns='index')\n",
    "prices.columns = ['symbol', 'this_week_price_usd','last_week_price_usd']\n",
    "prices[['this_week_price_usd','last_week_price_usd']] = prices[['this_week_price_usd','last_week_price_usd']].astype(float)"
   ]
  },
  {
   "cell_type": "markdown",
   "id": "845ae375",
   "metadata": {},
   "source": [
    "# Modify Prices"
   ]
  },
  {
   "cell_type": "code",
   "execution_count": 26,
   "id": "1d70ffa4",
   "metadata": {},
   "outputs": [],
   "source": [
    "def coingeko_date(coin,date):\n",
    "    try:\n",
    "        resp = requests.get('https://api.coingecko.com/api/v3/coins/'+coin+'/history?date=' + date.strftime('%d-%m-%Y')).text\n",
    "        return json.loads(resp)['market_data']['current_price']['usd']\n",
    "    except: \n",
    "        print(error)\n",
    "        return False"
   ]
  },
  {
   "cell_type": "code",
   "execution_count": 27,
   "id": "b3c0e9a0",
   "metadata": {},
   "outputs": [],
   "source": [
    "prices.loc[prices['symbol'] == 'WAVAX',['this_week_price_usd']] = coingeko_date('wrapped-avax',dd)\n",
    "prices.loc[prices['symbol'] == 'WAVAX',['last_week_price_usd']] = coingeko_date('wrapped-avax',odd)"
   ]
  },
  {
   "cell_type": "markdown",
   "id": "ae0f6c72",
   "metadata": {},
   "source": [
    "# Add Delta"
   ]
  },
  {
   "cell_type": "code",
   "execution_count": 28,
   "id": "bb352c0b",
   "metadata": {},
   "outputs": [],
   "source": [
    "prices['delta_price_usd'] = (prices['this_week_price_usd'] / prices['last_week_price_usd']) -1 "
   ]
  },
  {
   "cell_type": "code",
   "execution_count": 29,
   "id": "8babad7d",
   "metadata": {},
   "outputs": [],
   "source": [
    "df = prices.copy()"
   ]
  },
  {
   "cell_type": "code",
   "execution_count": 30,
   "id": "8af577d9",
   "metadata": {},
   "outputs": [],
   "source": [
    "#remove UST\n",
    "df = df.loc[df['symbol'] != 'UST']"
   ]
  },
  {
   "cell_type": "markdown",
   "id": "ac6c6903",
   "metadata": {},
   "source": [
    "# Liquidity"
   ]
  },
  {
   "cell_type": "code",
   "execution_count": 31,
   "id": "9fef4c65",
   "metadata": {},
   "outputs": [],
   "source": [
    "#'Totalliquidity'"
   ]
  },
  {
   "cell_type": "code",
   "execution_count": 32,
   "id": "6c454b64",
   "metadata": {},
   "outputs": [],
   "source": [
    "df = df.merge(v1[['symbol','totalLiquidity']],on='symbol',how='left').rename(columns={'totalLiquidity':'Total Liquidity V1'})\n",
    "df = df.merge(v2[['symbol','totalLiquidity']],on='symbol',how='left').rename(columns={'totalLiquidity':'Total Liquidity V2'})\n",
    "df = df.merge(amm[['symbol','totalLiquidity']],on='symbol',how='left').rename(columns={'totalLiquidity':'Total Liquidity amm'})\n",
    "df = df.merge(polygon[['symbol','totalLiquidity']],on='symbol',how='left').rename(columns={'totalLiquidity':'Total Liquidity polygon'})\n",
    "df = df.merge(avax[['symbol','totalLiquidity']],on='symbol',how='left').rename(columns={'totalLiquidity':'Total Liquidity avax'})"
   ]
  },
  {
   "cell_type": "code",
   "execution_count": 33,
   "id": "2b3b1399",
   "metadata": {},
   "outputs": [],
   "source": [
    "df.iloc[:,-5:] = df.iloc[:,-5:].astype(float).fillna(0)"
   ]
  },
  {
   "cell_type": "code",
   "execution_count": 34,
   "id": "8f2a0b22",
   "metadata": {},
   "outputs": [],
   "source": [
    "df['Total Liquidity'] = (df['Total Liquidity V1'] + df['Total Liquidity V2'] + df['Total Liquidity amm'] + df['Total Liquidity polygon'] + df['Total Liquidity avax']) * df['this_week_price_usd']"
   ]
  },
  {
   "cell_type": "code",
   "execution_count": 35,
   "id": "51606abb",
   "metadata": {},
   "outputs": [],
   "source": [
    "df = df.merge(v1[['symbol','availableLiquidity']],on='symbol',how='left').rename(columns={'availableLiquidity':'Available Liquidity V1'})\n",
    "df = df.merge(v2[['symbol','availableLiquidity']],on='symbol',how='left').rename(columns={'availableLiquidity':'Available Liquidity V2'})\n",
    "df = df.merge(amm[['symbol','availableLiquidity']],on='symbol',how='left').rename(columns={'availableLiquidity':'Available Liquidity amm'})\n",
    "df = df.merge(polygon[['symbol','availableLiquidity']],on='symbol',how='left').rename(columns={'availableLiquidity':'Available Liquidity polygon'})\n",
    "df = df.merge(avax[['symbol','availableLiquidity']],on='symbol',how='left').rename(columns={'availableLiquidity':'Available Liquidity avax'})"
   ]
  },
  {
   "cell_type": "code",
   "execution_count": 36,
   "id": "a3756377",
   "metadata": {},
   "outputs": [],
   "source": [
    "df.iloc[:,-5:] = df.iloc[:,-5:].astype(float).fillna(0)"
   ]
  },
  {
   "cell_type": "code",
   "execution_count": 37,
   "id": "eeda6bf5",
   "metadata": {},
   "outputs": [],
   "source": [
    "total_available_liquidity_usd = (((df['Available Liquidity V1'] + df['Available Liquidity V2'] + df['Available Liquidity amm'] + df['Available Liquidity polygon'] + df['Available Liquidity avax'])) * df['this_week_price_usd']).sum()"
   ]
  },
  {
   "cell_type": "code",
   "execution_count": 38,
   "id": "9c590498",
   "metadata": {},
   "outputs": [],
   "source": [
    "df['share'] = ((df['Available Liquidity V1'] + df['Available Liquidity V2'] + df['Available Liquidity amm'] + df['Available Liquidity polygon'] + df['Available Liquidity avax']) * df['this_week_price_usd'])/total_available_liquidity_usd"
   ]
  },
  {
   "cell_type": "markdown",
   "id": "8e04161a",
   "metadata": {},
   "source": [
    "# Borrows"
   ]
  },
  {
   "cell_type": "code",
   "execution_count": 39,
   "id": "0ac1364a",
   "metadata": {},
   "outputs": [],
   "source": [
    "#v1 Totalborrows Totalborrowsstable Totalborrowsvariable\n",
    "# others totalVariableDebt and totalStableDebt"
   ]
  },
  {
   "cell_type": "code",
   "execution_count": 40,
   "id": "2eaa779d",
   "metadata": {},
   "outputs": [],
   "source": [
    "df = df.merge(v1[['symbol','totalBorrowsStable','totalBorrowsVariable']],on='symbol',how='left').rename(columns={'totalBorrowsStable':'Total Borrows Stable V1','totalBorrowsVariable':'Total Borrows Variable V1'})\n",
    "df = df.merge(v2[['symbol','totalVariableDebt','totalStableDebt']],on='symbol',how='left').rename(columns={'totalStableDebt':'Total Borrows Stable V2','totalVariableDebt':'Total Borrows Variable V2'})\n",
    "df = df.merge(amm[['symbol','totalVariableDebt','totalStableDebt']],on='symbol',how='left').rename(columns={'totalStableDebt':'Total Borrows Stable amm','totalVariableDebt':'Total Borrows Variable amm'})\n",
    "df = df.merge(polygon[['symbol','totalVariableDebt','totalStableDebt']],on='symbol',how='left').rename(columns={'totalStableDebt':'Total Borrows Stable polygon','totalVariableDebt':'Total Borrows Variable polygon'})\n",
    "df = df.merge(avax[['symbol','totalVariableDebt','totalStableDebt']],on='symbol',how='left').rename(columns={'totalStableDebt':'Total Borrows Stable avax','totalVariableDebt':'Total Borrows Variable avax'})"
   ]
  },
  {
   "cell_type": "code",
   "execution_count": 41,
   "id": "87c748b1",
   "metadata": {},
   "outputs": [],
   "source": [
    "df[['Total Borrows Stable V1','Total Borrows Variable V1',\n",
    "    'Total Borrows Stable V2','Total Borrows Variable V2',\n",
    "    'Total Borrows Stable amm','Total Borrows Variable amm',\n",
    "    'Total Borrows Stable polygon','Total Borrows Variable polygon',\n",
    "    'Total Borrows Stable avax','Total Borrows Variable avax']] = df[['Total Borrows Stable V1','Total Borrows Variable V1',\n",
    "    'Total Borrows Stable V2','Total Borrows Variable V2',\n",
    "    'Total Borrows Stable amm','Total Borrows Variable amm',\n",
    "    'Total Borrows Stable polygon','Total Borrows Variable polygon',\n",
    "    'Total Borrows Stable avax','Total Borrows Variable avax']].astype(float).fillna(0)"
   ]
  },
  {
   "cell_type": "code",
   "execution_count": 42,
   "id": "4f6bd8c9",
   "metadata": {},
   "outputs": [],
   "source": [
    "df['Total Borrows V1'] = df['Total Borrows Stable V1'] + df['Total Borrows Variable V1']\n",
    "df['Total Borrows V2'] = df['Total Borrows Stable V2'] + df['Total Borrows Variable V2']\n",
    "df['Total Borrows amm'] = df['Total Borrows Stable amm'] + df['Total Borrows Variable amm']\n",
    "df['Total Borrows polygon'] = df['Total Borrows Stable polygon'] + df['Total Borrows Variable polygon']\n",
    "df['Total Borrows avax'] = df['Total Borrows Stable avax'] + df['Total Borrows Variable avax']"
   ]
  },
  {
   "cell_type": "code",
   "execution_count": 43,
   "id": "8cb987e3",
   "metadata": {},
   "outputs": [],
   "source": [
    "df['Total Borrows Variable'] = df[['Total Borrows Variable V1',\n",
    "    'Total Borrows Variable V2',\n",
    "    'Total Borrows Variable amm',\n",
    "    'Total Borrows Variable polygon',\n",
    "    'Total Borrows Variable avax']].sum(axis=1)"
   ]
  },
  {
   "cell_type": "code",
   "execution_count": 44,
   "id": "41ef9483",
   "metadata": {},
   "outputs": [],
   "source": [
    "df['Total Borrows Stable'] = df[['Total Borrows Stable V1',\n",
    "    'Total Borrows Stable V2',\n",
    "    'Total Borrows Stable amm',\n",
    "    'Total Borrows Stable polygon',\n",
    "    'Total Borrows Stable avax']].sum(axis=1)"
   ]
  },
  {
   "cell_type": "code",
   "execution_count": 45,
   "id": "2311f296",
   "metadata": {},
   "outputs": [],
   "source": [
    "df['Total Borrows Variable USD'] = df['this_week_price_usd'] * df['Total Borrows Variable']"
   ]
  },
  {
   "cell_type": "code",
   "execution_count": 46,
   "id": "9a19ca3e",
   "metadata": {},
   "outputs": [],
   "source": [
    "df['Total Borrows Stable USD'] = df['this_week_price_usd'] * df['Total Borrows Stable']"
   ]
  },
  {
   "cell_type": "code",
   "execution_count": 47,
   "id": "b9b77119",
   "metadata": {},
   "outputs": [],
   "source": [
    "df['Total Borrows'] = df['Total Borrows Variable'] + df['Total Borrows Stable']"
   ]
  },
  {
   "cell_type": "code",
   "execution_count": 48,
   "id": "b1d151d6",
   "metadata": {},
   "outputs": [],
   "source": [
    "df['Total Borrows USD'] = df['Total Borrows Variable USD'] + df['Total Borrows Stable USD']"
   ]
  },
  {
   "cell_type": "code",
   "execution_count": 49,
   "id": "09f5262d",
   "metadata": {},
   "outputs": [],
   "source": [
    "total_borrows = (\n",
    "(df['Total Borrows V1'] +\n",
    "df['Total Borrows V2'] +\n",
    "df['Total Borrows amm'] +\n",
    "df['Total Borrows polygon'] +\n",
    "df['Total Borrows avax'] \n",
    ") * df['this_week_price_usd']).sum()"
   ]
  },
  {
   "cell_type": "code",
   "execution_count": 50,
   "id": "fadba758",
   "metadata": {},
   "outputs": [],
   "source": [
    "df['Share of borrows'] = (df['Total Borrows V1'] +\n",
    "df['Total Borrows V2'] +\n",
    "df['Total Borrows amm'] +\n",
    "df['Total Borrows polygon'] +\n",
    "df['Total Borrows avax'] \n",
    ")/total_borrows"
   ]
  },
  {
   "cell_type": "markdown",
   "id": "d8d20ed2",
   "metadata": {},
   "source": [
    "# Interest and Reserve"
   ]
  },
  {
   "cell_type": "code",
   "execution_count": 51,
   "id": "b18ebef7",
   "metadata": {},
   "outputs": [],
   "source": [
    "#Lifetimedepositorsinterestearned\n",
    "#Lifetimereservefactoraccrued"
   ]
  },
  {
   "cell_type": "code",
   "execution_count": 52,
   "id": "e1033f23",
   "metadata": {},
   "outputs": [],
   "source": [
    "temp_int = v1[['symbol','lifetimeDepositorsInterestEarned','decimals']].merge(v1_old[['symbol','lifetimeDepositorsInterestEarned']],on='symbol',how='left')\n",
    "temp_int['v1_delta'] = (temp_int['lifetimeDepositorsInterestEarned_x'].astype(float) - temp_int['lifetimeDepositorsInterestEarned_y'].astype(float))/10**temp_int['decimals']\n",
    "df =df.merge(temp_int[['symbol','v1_delta']],on='symbol',how='left').fillna(0)\n",
    "df['V1 Interests USD'] = df['v1_delta'] * df['this_week_price_usd']\n",
    "df = df.drop(columns='v1_delta')"
   ]
  },
  {
   "cell_type": "code",
   "execution_count": 53,
   "id": "22c91d61",
   "metadata": {},
   "outputs": [],
   "source": [
    "temp_int = v2[['symbol','lifetimeDepositorsInterestEarned','lifetimeReserveFactorAccrued','decimals']].merge(v2_old[['symbol','lifetimeDepositorsInterestEarned','lifetimeReserveFactorAccrued']],on='symbol',how='left')\n",
    "temp_int['int_delta'] = (temp_int['lifetimeDepositorsInterestEarned_x'].astype(float) - temp_int['lifetimeDepositorsInterestEarned_y'].astype(float))/10**temp_int['decimals']\n",
    "temp_int['r_delta'] = (temp_int['lifetimeReserveFactorAccrued_x'].astype(float) - temp_int['lifetimeReserveFactorAccrued_y'].astype(float))/10**temp_int['decimals']\n",
    "df =df.merge(temp_int[['symbol','int_delta','r_delta']],on='symbol',how='left').fillna(0)\n",
    "df['V2 Interests USD'] = df['int_delta'] * df['this_week_price_usd']\n",
    "df['V2 Reserve USD'] = df['r_delta'] * df['this_week_price_usd']\n",
    "df = df.drop(columns=['int_delta','r_delta'])"
   ]
  },
  {
   "cell_type": "code",
   "execution_count": 54,
   "id": "eee2be49",
   "metadata": {},
   "outputs": [],
   "source": [
    "temp_int = amm[['symbol','lifetimeDepositorsInterestEarned','lifetimeReserveFactorAccrued','decimals']].merge(amm_old[['symbol','lifetimeDepositorsInterestEarned','lifetimeReserveFactorAccrued']],on='symbol',how='left')\n",
    "temp_int['int_delta'] = (temp_int['lifetimeDepositorsInterestEarned_x'].astype(float) - temp_int['lifetimeDepositorsInterestEarned_y'].astype(float))/10**temp_int['decimals']\n",
    "temp_int['r_delta'] = (temp_int['lifetimeReserveFactorAccrued_x'].astype(float) - temp_int['lifetimeReserveFactorAccrued_y'].astype(float))/10**temp_int['decimals']\n",
    "df =df.merge(temp_int[['symbol','int_delta','r_delta']],on='symbol',how='left').fillna(0)\n",
    "df['amm Interests USD'] = df['int_delta'] * df['this_week_price_usd']\n",
    "df['amm Reserve USD'] = df['r_delta'] * df['this_week_price_usd']\n",
    "df = df.drop(columns=['int_delta','r_delta'])"
   ]
  },
  {
   "cell_type": "code",
   "execution_count": 55,
   "id": "b76ffd12",
   "metadata": {},
   "outputs": [],
   "source": [
    "temp_int = polygon[['symbol','lifetimeDepositorsInterestEarned','lifetimeReserveFactorAccrued','decimals']].merge(polygon_old[['symbol','lifetimeDepositorsInterestEarned','lifetimeReserveFactorAccrued']],on='symbol',how='left')\n",
    "temp_int['int_delta'] = (temp_int['lifetimeDepositorsInterestEarned_x'].astype(float) - temp_int['lifetimeDepositorsInterestEarned_y'].astype(float))/10**temp_int['decimals']\n",
    "temp_int['r_delta'] = (temp_int['lifetimeReserveFactorAccrued_x'].astype(float) - temp_int['lifetimeReserveFactorAccrued_y'].astype(float))/10**temp_int['decimals']\n",
    "df =df.merge(temp_int[['symbol','int_delta','r_delta']],on='symbol',how='left').fillna(0)\n",
    "df['polygon Interests USD'] = df['int_delta'] * df['this_week_price_usd']\n",
    "df['polygon Reserve USD'] = df['r_delta'] * df['this_week_price_usd']\n",
    "df = df.drop(columns=['int_delta','r_delta'])"
   ]
  },
  {
   "cell_type": "code",
   "execution_count": 56,
   "id": "2817ed7a",
   "metadata": {},
   "outputs": [],
   "source": [
    "temp_int = avax[['symbol','lifetimeDepositorsInterestEarned','lifetimeReserveFactorAccrued','decimals']].merge(avax_old[['symbol','lifetimeDepositorsInterestEarned','lifetimeReserveFactorAccrued']],on='symbol',how='left')\n",
    "temp_int['int_delta'] = (temp_int['lifetimeDepositorsInterestEarned_x'].astype(float) - temp_int['lifetimeDepositorsInterestEarned_y'].astype(float))/10**temp_int['decimals']\n",
    "temp_int['r_delta'] = (temp_int['lifetimeReserveFactorAccrued_x'].astype(float) - temp_int['lifetimeReserveFactorAccrued_y'].astype(float))/10**temp_int['decimals']\n",
    "df =df.merge(temp_int[['symbol','int_delta','r_delta']],on='symbol',how='left').fillna(0)\n",
    "df['avax Interests USD'] = df['int_delta'] * df['this_week_price_usd']\n",
    "df['avax Reserve USD'] = df['r_delta'] * df['this_week_price_usd']\n",
    "df = df.drop(columns=['int_delta','r_delta'])"
   ]
  },
  {
   "cell_type": "markdown",
   "id": "d81c8442",
   "metadata": {},
   "source": [
    "# Liquidations & Bonus"
   ]
  },
  {
   "cell_type": "code",
   "execution_count": 57,
   "id": "407e28b5",
   "metadata": {},
   "outputs": [],
   "source": [
    "#Lifetimeliquidated\n",
    "#bonus v1 use mapping csv from gsheets\n",
    "#others use Reserveliquidationbonus"
   ]
  },
  {
   "cell_type": "code",
   "execution_count": 58,
   "id": "cf6456f6",
   "metadata": {},
   "outputs": [],
   "source": [
    "mapping = pd.read_csv('mapping.csv').rename(columns={'Unnamed: 0':'symbol'})"
   ]
  },
  {
   "cell_type": "code",
   "execution_count": 59,
   "id": "54c87901",
   "metadata": {},
   "outputs": [],
   "source": [
    "mapping['Bonus2'] = mapping['Bonus2'].str.replace('%','').astype(float)/100"
   ]
  },
  {
   "cell_type": "code",
   "execution_count": 60,
   "id": "580de175",
   "metadata": {},
   "outputs": [],
   "source": [
    "temp = v1[['symbol','lifetimeLiquidated','decimals']].merge(v1_old[['symbol','lifetimeLiquidated']],on='symbol',how='left').merge(mapping[['symbol','Bonus2']],on='symbol',how='left')\n",
    "temp['v1_delta'] = (temp['lifetimeLiquidated_x'].astype(float) - temp['lifetimeLiquidated_y'].astype(float))/10**temp['decimals']\n",
    "df =df.merge(temp[['symbol','v1_delta','Bonus2']],on='symbol',how='left').fillna(0)\n",
    "df['V1 Liquidations per Collateral USD'] = df['v1_delta'] * df['this_week_price_usd']\n",
    "df['V1 Bonus USD'] = df['V1 Liquidations per Collateral USD'] * df['Bonus2']\n",
    "df = df.drop(columns=['v1_delta','Bonus2'])"
   ]
  },
  {
   "cell_type": "code",
   "execution_count": 61,
   "id": "d4c773b7",
   "metadata": {},
   "outputs": [],
   "source": [
    "temp = v2[['symbol','lifetimeLiquidated','reserveLiquidationBonus','decimals']].merge(v2_old[['symbol','lifetimeLiquidated']],on='symbol',how='left')\n",
    "temp['liq_delta'] = (temp['lifetimeLiquidated_x'].astype(float) - temp['lifetimeLiquidated_y'].astype(float))/10**temp['decimals']\n",
    "df =df.merge(temp[['symbol','liq_delta','reserveLiquidationBonus']],on='symbol',how='left').fillna(0)\n",
    "df['V2 Liquidations per Collateral USD'] = df['liq_delta'] * df['this_week_price_usd']\n",
    "df['V2 Bonus USD'] = df['V2 Liquidations per Collateral USD'] * df['reserveLiquidationBonus'].astype(float)\n",
    "df = df.drop(columns=['liq_delta','reserveLiquidationBonus'])"
   ]
  },
  {
   "cell_type": "code",
   "execution_count": 62,
   "id": "ac2c6a28",
   "metadata": {},
   "outputs": [],
   "source": [
    "temp = amm[['symbol','lifetimeLiquidated','reserveLiquidationBonus','decimals']].merge(amm_old[['symbol','lifetimeLiquidated']],on='symbol',how='left')\n",
    "temp['liq_delta'] = (temp['lifetimeLiquidated_x'].astype(float) - temp['lifetimeLiquidated_y'].astype(float))/10**temp['decimals']\n",
    "df =df.merge(temp[['symbol','liq_delta','reserveLiquidationBonus']],on='symbol',how='left').fillna(0)\n",
    "df['amm Liquidations per Collateral USD'] = df['liq_delta'] * df['this_week_price_usd']\n",
    "df['amm Bonus USD'] = df['amm Liquidations per Collateral USD'] * df['reserveLiquidationBonus'].astype(float)\n",
    "df = df.drop(columns=['liq_delta','reserveLiquidationBonus'])"
   ]
  },
  {
   "cell_type": "code",
   "execution_count": 63,
   "id": "b2c597f3",
   "metadata": {},
   "outputs": [],
   "source": [
    "temp = polygon[['symbol','lifetimeLiquidated','reserveLiquidationBonus','decimals']].merge(polygon_old[['symbol','lifetimeLiquidated']],on='symbol',how='left')\n",
    "temp['liq_delta'] = (temp['lifetimeLiquidated_x'].astype(float) - temp['lifetimeLiquidated_y'].astype(float))/10**temp['decimals']\n",
    "df =df.merge(temp[['symbol','liq_delta','reserveLiquidationBonus']],on='symbol',how='left').fillna(0)\n",
    "df['polygon Liquidations per Collateral USD'] = df['liq_delta'] * df['this_week_price_usd']\n",
    "df['polygon Bonus USD'] = df['polygon Liquidations per Collateral USD'] * df['reserveLiquidationBonus'].astype(float)\n",
    "df = df.drop(columns=['liq_delta','reserveLiquidationBonus'])"
   ]
  },
  {
   "cell_type": "code",
   "execution_count": 64,
   "id": "af1f2bf1",
   "metadata": {},
   "outputs": [],
   "source": [
    "temp = avax[['symbol','lifetimeLiquidated','reserveLiquidationBonus','decimals']].merge(avax_old[['symbol','lifetimeLiquidated']],on='symbol',how='left')\n",
    "temp['liq_delta'] = (temp['lifetimeLiquidated_x'].astype(float) - temp['lifetimeLiquidated_y'].astype(float))/10**temp['decimals']\n",
    "df =df.merge(temp[['symbol','liq_delta','reserveLiquidationBonus']],on='symbol',how='left').fillna(0)\n",
    "df['avax Liquidations per Collateral USD'] = df['liq_delta'] * df['this_week_price_usd']\n",
    "df['avax Bonus USD'] = df['avax Liquidations per Collateral USD'] * df['reserveLiquidationBonus'].astype(float)\n",
    "df = df.drop(columns=['liq_delta','reserveLiquidationBonus'])"
   ]
  },
  {
   "cell_type": "code",
   "execution_count": 65,
   "id": "d225a0a9",
   "metadata": {},
   "outputs": [],
   "source": [
    "df['Total Liquidations'] = df['V1 Liquidations per Collateral USD'] + df['V2 Liquidations per Collateral USD']+ df['amm Liquidations per Collateral USD']+df['polygon Liquidations per Collateral USD']+df['avax Liquidations per Collateral USD']"
   ]
  },
  {
   "cell_type": "code",
   "execution_count": 66,
   "id": "6215ba94",
   "metadata": {},
   "outputs": [],
   "source": [
    "df['Total Bonus USD'] = df['V1 Bonus USD'] + df['V2 Bonus USD']+ df['amm Bonus USD']+df['polygon Bonus USD']+df['avax Bonus USD']"
   ]
  },
  {
   "cell_type": "markdown",
   "id": "bf97f472",
   "metadata": {},
   "source": [
    "# Flash Loans"
   ]
  },
  {
   "cell_type": "code",
   "execution_count": 67,
   "id": "fcd890e4",
   "metadata": {},
   "outputs": [],
   "source": [
    "#Lifetimeflashloans"
   ]
  },
  {
   "cell_type": "code",
   "execution_count": 68,
   "id": "0177c11a",
   "metadata": {},
   "outputs": [],
   "source": [
    "temp = v1[['symbol','lifetimeFlashLoans','decimals']].merge(v1_old[['symbol','lifetimeFlashLoans']],on='symbol',how='left')\n",
    "temp['v1_delta'] = (temp['lifetimeFlashLoans_x'].astype(float) - temp['lifetimeFlashLoans_y'].astype(float))/10**temp['decimals']\n",
    "df =df.merge(temp[['symbol','v1_delta']],on='symbol',how='left').fillna(0)\n",
    "df['V1 Flashloans USD'] = df['v1_delta'] * df['this_week_price_usd']\n",
    "df['V1 Flashloans Fees USD'] = df['V1 Flashloans USD'] * .0009\n",
    "df = df.drop(columns=['v1_delta'])"
   ]
  },
  {
   "cell_type": "code",
   "execution_count": 69,
   "id": "3e6a963d",
   "metadata": {},
   "outputs": [],
   "source": [
    "temp = v2[['symbol','lifetimeFlashLoans','decimals']].merge(v2_old[['symbol','lifetimeFlashLoans']],on='symbol',how='left')\n",
    "temp['delta'] = (temp['lifetimeFlashLoans_x'].astype(float) - temp['lifetimeFlashLoans_y'].astype(float))/10**temp['decimals']\n",
    "df =df.merge(temp[['symbol','delta']],on='symbol',how='left').fillna(0)\n",
    "df['V2 Flashloans USD'] = df['delta'] * df['this_week_price_usd']\n",
    "df['V2 Flashloans Fees USD'] = df['V2 Flashloans USD'] * .0009\n",
    "df = df.drop(columns=['delta'])"
   ]
  },
  {
   "cell_type": "code",
   "execution_count": 70,
   "id": "e1aed68e",
   "metadata": {},
   "outputs": [],
   "source": [
    "temp = amm[['symbol','lifetimeFlashLoans','decimals']].merge(amm_old[['symbol','lifetimeFlashLoans']],on='symbol',how='left')\n",
    "temp['delta'] = (temp['lifetimeFlashLoans_x'].astype(float) - temp['lifetimeFlashLoans_y'].astype(float))/10**temp['decimals']\n",
    "df =df.merge(temp[['symbol','delta']],on='symbol',how='left').fillna(0)\n",
    "df['amm Flashloans USD'] = df['delta'] * df['this_week_price_usd']\n",
    "df['amm Flashloans Fees USD'] = df['amm Flashloans USD'] * .0009\n",
    "df = df.drop(columns=['delta'])"
   ]
  },
  {
   "cell_type": "code",
   "execution_count": 71,
   "id": "53b02581",
   "metadata": {},
   "outputs": [],
   "source": [
    "temp = polygon[['symbol','lifetimeFlashLoans','decimals']].merge(polygon_old[['symbol','lifetimeFlashLoans']],on='symbol',how='left')\n",
    "temp['delta'] = (temp['lifetimeFlashLoans_x'].astype(float) - temp['lifetimeFlashLoans_y'].astype(float))/10**temp['decimals']\n",
    "df =df.merge(temp[['symbol','delta']],on='symbol',how='left').fillna(0)\n",
    "df['polygon Flashloans USD'] = df['delta'] * df['this_week_price_usd']\n",
    "df['polygon Flashloans Fees USD'] = df['polygon Flashloans USD'] * .0009\n",
    "df = df.drop(columns=['delta'])"
   ]
  },
  {
   "cell_type": "code",
   "execution_count": 72,
   "id": "30ab4dfc",
   "metadata": {},
   "outputs": [],
   "source": [
    "temp = avax[['symbol','lifetimeFlashLoans','decimals']].merge(avax_old[['symbol','lifetimeFlashLoans']],on='symbol',how='left')\n",
    "temp['delta'] = (temp['lifetimeFlashLoans_x'].astype(float) - temp['lifetimeFlashLoans_y'].astype(float))/10**temp['decimals']\n",
    "df =df.merge(temp[['symbol','delta']],on='symbol',how='left').fillna(0)\n",
    "df['avax Flashloans USD'] = df['delta'] * df['this_week_price_usd']\n",
    "df['avax Flashloans Fees USD'] = df['avax Flashloans USD'] * .0009\n",
    "df = df.drop(columns=['delta'])"
   ]
  },
  {
   "cell_type": "markdown",
   "id": "902256d6",
   "metadata": {},
   "source": [
    "# LM"
   ]
  },
  {
   "cell_type": "code",
   "execution_count": 73,
   "id": "48b96328",
   "metadata": {},
   "outputs": [],
   "source": [
    "#Aemissionpersecond -> depositor\n",
    "#Vemissionpersecond -> borrower"
   ]
  },
  {
   "cell_type": "code",
   "execution_count": 74,
   "id": "7e12d702",
   "metadata": {},
   "outputs": [
    {
     "name": "stderr",
     "output_type": "stream",
     "text": [
      "/var/folders/_n/tn6737qj6tg3h8j4vjr026ww0000gn/T/ipykernel_47010/1150418691.py:2: SettingWithCopyWarning: \n",
      "A value is trying to be set on a copy of a slice from a DataFrame.\n",
      "Try using .loc[row_indexer,col_indexer] = value instead\n",
      "\n",
      "See the caveats in the documentation: https://pandas.pydata.org/pandas-docs/stable/user_guide/indexing.html#returning-a-view-versus-a-copy\n",
      "  temp['V2 Depositor LM'] = (temp['aEmissionPerSecond'].astype(float) *24*60*60*7)/(10**18)\n",
      "/var/folders/_n/tn6737qj6tg3h8j4vjr026ww0000gn/T/ipykernel_47010/1150418691.py:3: SettingWithCopyWarning: \n",
      "A value is trying to be set on a copy of a slice from a DataFrame.\n",
      "Try using .loc[row_indexer,col_indexer] = value instead\n",
      "\n",
      "See the caveats in the documentation: https://pandas.pydata.org/pandas-docs/stable/user_guide/indexing.html#returning-a-view-versus-a-copy\n",
      "  temp['V2 Borrower LM'] = (temp['vEmissionPerSecond'].astype(float) *24*60*60*7)/(10**18)\n"
     ]
    }
   ],
   "source": [
    "temp = v2[['symbol','aEmissionPerSecond','vEmissionPerSecond','decimals']]\n",
    "temp['V2 Depositor LM'] = (temp['aEmissionPerSecond'].astype(float) *24*60*60*7)/(10**18)\n",
    "temp['V2 Borrower LM'] = (temp['vEmissionPerSecond'].astype(float) *24*60*60*7)/(10**18)\n",
    "df =df.merge(temp[['symbol','V2 Depositor LM','V2 Borrower LM']],on='symbol',how='left').fillna(0)"
   ]
  },
  {
   "cell_type": "code",
   "execution_count": 75,
   "id": "f1ec37fb",
   "metadata": {},
   "outputs": [
    {
     "name": "stderr",
     "output_type": "stream",
     "text": [
      "/var/folders/_n/tn6737qj6tg3h8j4vjr026ww0000gn/T/ipykernel_47010/1535140118.py:2: SettingWithCopyWarning: \n",
      "A value is trying to be set on a copy of a slice from a DataFrame.\n",
      "Try using .loc[row_indexer,col_indexer] = value instead\n",
      "\n",
      "See the caveats in the documentation: https://pandas.pydata.org/pandas-docs/stable/user_guide/indexing.html#returning-a-view-versus-a-copy\n",
      "  temp['polygon Depositor LM'] = (temp['aEmissionPerSecond'].astype(float) *24*60*60*7)/(10**18)\n",
      "/var/folders/_n/tn6737qj6tg3h8j4vjr026ww0000gn/T/ipykernel_47010/1535140118.py:3: SettingWithCopyWarning: \n",
      "A value is trying to be set on a copy of a slice from a DataFrame.\n",
      "Try using .loc[row_indexer,col_indexer] = value instead\n",
      "\n",
      "See the caveats in the documentation: https://pandas.pydata.org/pandas-docs/stable/user_guide/indexing.html#returning-a-view-versus-a-copy\n",
      "  temp['polygon Borrower LM'] = (temp['vEmissionPerSecond'].astype(float) *24*60*60*7)/(10**18)\n"
     ]
    }
   ],
   "source": [
    "temp = polygon[['symbol','aEmissionPerSecond','vEmissionPerSecond','decimals']]\n",
    "temp['polygon Depositor LM'] = (temp['aEmissionPerSecond'].astype(float) *24*60*60*7)/(10**18)\n",
    "temp['polygon Borrower LM'] = (temp['vEmissionPerSecond'].astype(float) *24*60*60*7)/(10**18)\n",
    "df =df.merge(temp[['symbol','polygon Depositor LM','polygon Borrower LM']],on='symbol',how='left').fillna(0)"
   ]
  },
  {
   "cell_type": "code",
   "execution_count": 76,
   "id": "7bfd720c",
   "metadata": {},
   "outputs": [
    {
     "name": "stderr",
     "output_type": "stream",
     "text": [
      "/var/folders/_n/tn6737qj6tg3h8j4vjr026ww0000gn/T/ipykernel_47010/2857605460.py:2: SettingWithCopyWarning: \n",
      "A value is trying to be set on a copy of a slice from a DataFrame.\n",
      "Try using .loc[row_indexer,col_indexer] = value instead\n",
      "\n",
      "See the caveats in the documentation: https://pandas.pydata.org/pandas-docs/stable/user_guide/indexing.html#returning-a-view-versus-a-copy\n",
      "  temp['avax Depositor LM'] = (temp['aEmissionPerSecond'].astype(float) *24*60*60*7)/(10**18)\n",
      "/var/folders/_n/tn6737qj6tg3h8j4vjr026ww0000gn/T/ipykernel_47010/2857605460.py:3: SettingWithCopyWarning: \n",
      "A value is trying to be set on a copy of a slice from a DataFrame.\n",
      "Try using .loc[row_indexer,col_indexer] = value instead\n",
      "\n",
      "See the caveats in the documentation: https://pandas.pydata.org/pandas-docs/stable/user_guide/indexing.html#returning-a-view-versus-a-copy\n",
      "  temp['avax Borrower LM'] = (temp['vEmissionPerSecond'].astype(float) *24*60*60*7)/(10**18)\n"
     ]
    }
   ],
   "source": [
    "temp = avax[['symbol','aEmissionPerSecond','vEmissionPerSecond','decimals']]\n",
    "temp['avax Depositor LM'] = (temp['aEmissionPerSecond'].astype(float) *24*60*60*7)/(10**18)\n",
    "temp['avax Borrower LM'] = (temp['vEmissionPerSecond'].astype(float) *24*60*60*7)/(10**18)\n",
    "df =df.merge(temp[['symbol','avax Depositor LM','avax Borrower LM']],on='symbol',how='left').fillna(0)"
   ]
  },
  {
   "cell_type": "markdown",
   "id": "b7833151",
   "metadata": {},
   "source": [
    "# Total Income & APY"
   ]
  },
  {
   "cell_type": "code",
   "execution_count": 77,
   "id": "ee192036",
   "metadata": {},
   "outputs": [],
   "source": [
    "aave_price = df.loc[df['symbol'] == 'AAVE']['this_week_price_usd'].iloc[0]"
   ]
  },
  {
   "cell_type": "code",
   "execution_count": 78,
   "id": "024fde39",
   "metadata": {},
   "outputs": [],
   "source": [
    "df['Total estimated weekly income'] = (df['V1 Interests USD'] +\n",
    " df['V2 Interests USD'] +\n",
    " df['V2 Reserve USD'] +\n",
    " df['amm Interests USD'] +\n",
    " df['amm Reserve USD'] +\n",
    " df['polygon Interests USD'] +\n",
    " df['polygon Reserve USD'] +\n",
    " df['avax Interests USD'] +\n",
    " df['avax Reserve USD'] +\n",
    " df['V1 Bonus USD'] +\n",
    " df['V2 Bonus USD'] +\n",
    " df['amm Bonus USD'] +\n",
    " df['polygon Bonus USD'] +\n",
    " df['avax Bonus USD'] +\n",
    " (df['V1 Flashloans USD']*.0009) +\n",
    " (df['V2 Flashloans USD']*.0009) +\n",
    " (df['amm Flashloans USD']*.0009) +\n",
    " (df['polygon Flashloans USD']*.0009) +\n",
    " (df['avax Flashloans USD']*.0009) +\n",
    " (df['V2 Depositor LM'] * aave_price) +\n",
    " (df['polygon Depositor LM'] * aave_price) +\n",
    " (df['avax Depositor LM'] * aave_price) +\n",
    " (df['V2 Borrower LM'] * aave_price) +\n",
    " (df['polygon Borrower LM'] * aave_price) +\n",
    " (df['avax Borrower LM'] * aave_price) \n",
    ")"
   ]
  },
  {
   "cell_type": "code",
   "execution_count": 79,
   "id": "f6c404b4",
   "metadata": {},
   "outputs": [],
   "source": [
    "total_income = df['Total estimated weekly income'].sum()"
   ]
  },
  {
   "cell_type": "code",
   "execution_count": 80,
   "id": "5f30ecb5",
   "metadata": {},
   "outputs": [],
   "source": [
    "df['Share of income'] = df['Total estimated weekly income'] / total_income"
   ]
  },
  {
   "cell_type": "code",
   "execution_count": 81,
   "id": "d7255fca",
   "metadata": {},
   "outputs": [],
   "source": [
    "total_income_minus_liquidations = total_income - (df['V1 Bonus USD'] + df['V2 Bonus USD'] + df['amm Bonus USD'] + df['polygon Bonus USD'] + df['avax Bonus USD']).sum()"
   ]
  },
  {
   "cell_type": "code",
   "execution_count": 82,
   "id": "82f48d7a",
   "metadata": {},
   "outputs": [],
   "source": [
    "df['Share of income excl liquidations'] = ((df['Total estimated weekly income']) - (df['V1 Bonus USD'] + df['V2 Bonus USD'] + df['amm Bonus USD'] + df['polygon Bonus USD'] + df['avax Bonus USD']))/total_income_minus_liquidations"
   ]
  },
  {
   "cell_type": "code",
   "execution_count": 83,
   "id": "e45a2fc3",
   "metadata": {},
   "outputs": [],
   "source": [
    "df['Average APY excl LM'] = ((df['Total estimated weekly income'] - ((df['V2 Depositor LM'] +\n",
    "df['polygon Depositor LM'] +\n",
    "df['avax Depositor LM'] +\n",
    "df['V2 Borrower LM'] +\n",
    "df['polygon Borrower LM'] +\n",
    "df['avax Borrower LM'])*aave_price))*52.14)/(df['Total Liquidity']*df['this_week_price_usd'])"
   ]
  },
  {
   "cell_type": "code",
   "execution_count": 84,
   "id": "370da704",
   "metadata": {},
   "outputs": [],
   "source": [
    "df['Average Depositor APY'] = ((df['Total estimated weekly income'] - ((df['V2 Borrower LM']*aave_price) +\n",
    "(df['polygon Borrower LM']*aave_price) +\n",
    "(df['avax Borrower LM']*aave_price) +\n",
    "df['V1 Bonus USD'] + \n",
    "df['V2 Bonus USD'] + \n",
    "df['amm Bonus USD'] + \n",
    "df['polygon Bonus USD'] + \n",
    "df['avax Bonus USD']))*52.14)/(df['Total Liquidity']*df['this_week_price_usd'])"
   ]
  },
  {
   "cell_type": "markdown",
   "id": "9b6f7a75",
   "metadata": {},
   "source": [
    "# Reserve Factor Collections"
   ]
  },
  {
   "cell_type": "code",
   "execution_count": 85,
   "id": "7ca50d08",
   "metadata": {},
   "outputs": [],
   "source": [
    "#Lifetimereservefactoraccrued"
   ]
  },
  {
   "cell_type": "code",
   "execution_count": 86,
   "id": "daa65d3a",
   "metadata": {},
   "outputs": [
    {
     "name": "stderr",
     "output_type": "stream",
     "text": [
      "/var/folders/_n/tn6737qj6tg3h8j4vjr026ww0000gn/T/ipykernel_47010/1661154715.py:2: SettingWithCopyWarning: \n",
      "A value is trying to be set on a copy of a slice from a DataFrame.\n",
      "Try using .loc[row_indexer,col_indexer] = value instead\n",
      "\n",
      "See the caveats in the documentation: https://pandas.pydata.org/pandas-docs/stable/user_guide/indexing.html#returning-a-view-versus-a-copy\n",
      "  temp['lifetimeReserveFactorAccrued'] = temp['lifetimeReserveFactorAccrued'].astype(float) / 10**temp['decimals'].astype(float)\n"
     ]
    }
   ],
   "source": [
    "temp = v2[['symbol','lifetimeReserveFactorAccrued','decimals']]\n",
    "temp['lifetimeReserveFactorAccrued'] = temp['lifetimeReserveFactorAccrued'].astype(float) / 10**temp['decimals'].astype(float)\n",
    "temp = temp[['symbol','lifetimeReserveFactorAccrued']]\n",
    "df = df.merge(temp,on='symbol',how='left').fillna(0)\n",
    "df['V2 Reserve Factor Accrued USD'] = df['lifetimeReserveFactorAccrued'] * df['this_week_price_usd']\n",
    "df = df.drop(columns='lifetimeReserveFactorAccrued')"
   ]
  },
  {
   "cell_type": "code",
   "execution_count": 87,
   "id": "46e17a52",
   "metadata": {},
   "outputs": [
    {
     "name": "stderr",
     "output_type": "stream",
     "text": [
      "/var/folders/_n/tn6737qj6tg3h8j4vjr026ww0000gn/T/ipykernel_47010/2570774784.py:2: SettingWithCopyWarning: \n",
      "A value is trying to be set on a copy of a slice from a DataFrame.\n",
      "Try using .loc[row_indexer,col_indexer] = value instead\n",
      "\n",
      "See the caveats in the documentation: https://pandas.pydata.org/pandas-docs/stable/user_guide/indexing.html#returning-a-view-versus-a-copy\n",
      "  temp['lifetimeReserveFactorAccrued'] = temp['lifetimeReserveFactorAccrued'].astype(float) / 10**temp['decimals'].astype(float)\n"
     ]
    }
   ],
   "source": [
    "temp = amm[['symbol','lifetimeReserveFactorAccrued','decimals']]\n",
    "temp['lifetimeReserveFactorAccrued'] = temp['lifetimeReserveFactorAccrued'].astype(float) / 10**temp['decimals'].astype(float)\n",
    "temp = temp[['symbol','lifetimeReserveFactorAccrued']]\n",
    "df = df.merge(temp,on='symbol',how='left').fillna(0)\n",
    "df['amm Reserve Factor Accrued USD'] = df['lifetimeReserveFactorAccrued'] * df['this_week_price_usd']\n",
    "df = df.drop(columns='lifetimeReserveFactorAccrued')"
   ]
  },
  {
   "cell_type": "code",
   "execution_count": 88,
   "id": "7ff2f492",
   "metadata": {},
   "outputs": [
    {
     "name": "stderr",
     "output_type": "stream",
     "text": [
      "/var/folders/_n/tn6737qj6tg3h8j4vjr026ww0000gn/T/ipykernel_47010/4112480079.py:2: SettingWithCopyWarning: \n",
      "A value is trying to be set on a copy of a slice from a DataFrame.\n",
      "Try using .loc[row_indexer,col_indexer] = value instead\n",
      "\n",
      "See the caveats in the documentation: https://pandas.pydata.org/pandas-docs/stable/user_guide/indexing.html#returning-a-view-versus-a-copy\n",
      "  temp['lifetimeReserveFactorAccrued'] = temp['lifetimeReserveFactorAccrued'].astype(float) / 10**temp['decimals'].astype(float)\n"
     ]
    }
   ],
   "source": [
    "temp = polygon[['symbol','lifetimeReserveFactorAccrued','decimals']]\n",
    "temp['lifetimeReserveFactorAccrued'] = temp['lifetimeReserveFactorAccrued'].astype(float) / 10**temp['decimals'].astype(float)\n",
    "temp = temp[['symbol','lifetimeReserveFactorAccrued']]\n",
    "df = df.merge(temp,on='symbol',how='left').fillna(0)\n",
    "df['polygon Reserve Factor Accrued USD'] = df['lifetimeReserveFactorAccrued'] * df['this_week_price_usd']\n",
    "df = df.drop(columns='lifetimeReserveFactorAccrued')"
   ]
  },
  {
   "cell_type": "code",
   "execution_count": 89,
   "id": "30b96974",
   "metadata": {},
   "outputs": [
    {
     "name": "stderr",
     "output_type": "stream",
     "text": [
      "/var/folders/_n/tn6737qj6tg3h8j4vjr026ww0000gn/T/ipykernel_47010/283958313.py:2: SettingWithCopyWarning: \n",
      "A value is trying to be set on a copy of a slice from a DataFrame.\n",
      "Try using .loc[row_indexer,col_indexer] = value instead\n",
      "\n",
      "See the caveats in the documentation: https://pandas.pydata.org/pandas-docs/stable/user_guide/indexing.html#returning-a-view-versus-a-copy\n",
      "  temp['lifetimeReserveFactorAccrued'] = temp['lifetimeReserveFactorAccrued'].astype(float) / 10**temp['decimals'].astype(float)\n"
     ]
    }
   ],
   "source": [
    "temp = avax[['symbol','lifetimeReserveFactorAccrued','decimals']]\n",
    "temp['lifetimeReserveFactorAccrued'] = temp['lifetimeReserveFactorAccrued'].astype(float) / 10**temp['decimals'].astype(float)\n",
    "temp = temp[['symbol','lifetimeReserveFactorAccrued']]\n",
    "df = df.merge(temp,on='symbol',how='left').fillna(0)\n",
    "df['avax Reserve Factor Accrued USD'] = df['lifetimeReserveFactorAccrued'] * df['this_week_price_usd']\n",
    "df = df.drop(columns='lifetimeReserveFactorAccrued')"
   ]
  },
  {
   "cell_type": "markdown",
   "id": "6e903572",
   "metadata": {},
   "source": [
    "# Debank &  Ecosystem Collection \t\t\t\t"
   ]
  },
  {
   "cell_type": "code",
   "execution_count": 90,
   "id": "58263bcf",
   "metadata": {},
   "outputs": [],
   "source": [
    "debank_key = 'c160185de8dfd9cf690197d8cb54290c8ab86f91'"
   ]
  },
  {
   "cell_type": "code",
   "execution_count": 91,
   "id": "b7f20016",
   "metadata": {},
   "outputs": [],
   "source": [
    "def get_db_tokens(address,chain,key):\n",
    "    url = 'https://openapi.debank.com/v1/user/token_list?id='+address+'&chain_id='+chain\n",
    "    headers= {\n",
    "        'accept': 'application/json',\n",
    "        #'AccessKey': key\n",
    "    }\n",
    "    return requests.get(url,headers=headers).text"
   ]
  },
  {
   "cell_type": "code",
   "execution_count": 92,
   "id": "fc7d35c4",
   "metadata": {},
   "outputs": [],
   "source": [
    "eth_wallet_1 = get_db_tokens('0xe3d9988f676457123c5fd01297605efdd0cba1ae','eth',debank_key)\n",
    "eth_wallet_2 = get_db_tokens('0x464C71f6c2F760DdA6093dCB91C24c39e5d6e18c','eth',debank_key)\n",
    "polygon_wallet = get_db_tokens('0x7734280a4337f37fbf4651073db7c28c80b339e9','matic',debank_key)\n",
    "avax_wallet = get_db_tokens('0x467b92af281d14cb6809913ad016a607b5ba8a36','avax',debank_key)"
   ]
  },
  {
   "cell_type": "code",
   "execution_count": 93,
   "id": "a51b596c",
   "metadata": {},
   "outputs": [],
   "source": [
    "ew1 = pd.DataFrame(json.loads(eth_wallet_1))[['symbol','protocol_id','is_wallet','amount']]\n",
    "ew2 = pd.DataFrame(json.loads(eth_wallet_2))[['symbol','protocol_id','is_wallet','amount']]\n",
    "pw1 = pd.DataFrame(json.loads(polygon_wallet))[['symbol','protocol_id','is_wallet','amount']]\n",
    "aw1 = pd.DataFrame(json.loads(avax_wallet))[['symbol','protocol_id','is_wallet','amount']]"
   ]
  },
  {
   "cell_type": "code",
   "execution_count": 94,
   "id": "6274c4d2",
   "metadata": {},
   "outputs": [],
   "source": [
    "#v1 \n",
    "v1_one = ew1.loc[(ew1['is_wallet']) & (ew1['symbol'].isin(all_symbols))][['symbol','amount']]\n",
    "v1_two = ew2.loc[(ew2['is_wallet']) & (ew2['symbol'].isin(all_symbols))][['symbol','amount']]\n",
    "v1_bal = v1_one.merge(v1_two,on='symbol',how='outer').fillna(0)\n",
    "v1_bal['total_amount'] = v1_bal['amount_x'] + v1_bal['amount_y']\n",
    "v1_bal = v1_bal[['symbol','total_amount']]\n",
    "df = df.merge(v1_bal,on='symbol',how='left')\n",
    "df['V1 Ecosystem Collection'] = df['total_amount']\n",
    "df = df.drop(columns='total_amount').fillna(0)"
   ]
  },
  {
   "cell_type": "code",
   "execution_count": 95,
   "id": "d0d8d5de",
   "metadata": {},
   "outputs": [
    {
     "name": "stderr",
     "output_type": "stream",
     "text": [
      "/var/folders/_n/tn6737qj6tg3h8j4vjr026ww0000gn/T/ipykernel_47010/836371185.py:3: SettingWithCopyWarning: \n",
      "A value is trying to be set on a copy of a slice from a DataFrame.\n",
      "Try using .loc[row_indexer,col_indexer] = value instead\n",
      "\n",
      "See the caveats in the documentation: https://pandas.pydata.org/pandas-docs/stable/user_guide/indexing.html#returning-a-view-versus-a-copy\n",
      "  temp['symbol'] = temp['symbol'].apply(lambda x: x[1:] if x[0] == 'a' else x)\n"
     ]
    }
   ],
   "source": [
    "#v2\n",
    "temp = ew2.loc[ew2['protocol_id'] == 'aave2']\n",
    "temp['symbol'] = temp['symbol'].apply(lambda x: x[1:] if x[0] == 'a' else x)\n",
    "temp = temp[['symbol','amount']]\n",
    "temp.loc[temp['symbol'] == 'WETH',['symbol']] = 'ETH'\n",
    "df = df.merge(temp,on='symbol',how='left')\n",
    "df['V2 Ecosystem Collection'] = df['amount']\n",
    "df = df.drop(columns='amount').fillna(0)"
   ]
  },
  {
   "cell_type": "code",
   "execution_count": 96,
   "id": "07716e99",
   "metadata": {},
   "outputs": [
    {
     "name": "stderr",
     "output_type": "stream",
     "text": [
      "/var/folders/_n/tn6737qj6tg3h8j4vjr026ww0000gn/T/ipykernel_47010/4081523412.py:3: SettingWithCopyWarning: \n",
      "A value is trying to be set on a copy of a slice from a DataFrame.\n",
      "Try using .loc[row_indexer,col_indexer] = value instead\n",
      "\n",
      "See the caveats in the documentation: https://pandas.pydata.org/pandas-docs/stable/user_guide/indexing.html#returning-a-view-versus-a-copy\n",
      "  temp['symbol'] = temp['symbol'].str.replace('aAmm','')\n"
     ]
    }
   ],
   "source": [
    "#amm\n",
    "temp = ew2.loc[ew2['protocol_id'] == 'aave_amm']\n",
    "temp['symbol'] = temp['symbol'].str.replace('aAmm','')\n",
    "temp = temp[['symbol','amount']]\n",
    "temp.loc[temp['symbol'] == 'WETH',['symbol']] = 'ETH'\n",
    "df = df.merge(temp,on='symbol',how='left')\n",
    "df['amm Ecosystem Collection'] = df['amount']\n",
    "df = df.drop(columns='amount').fillna(0)"
   ]
  },
  {
   "cell_type": "code",
   "execution_count": 97,
   "id": "d7a78f97",
   "metadata": {},
   "outputs": [
    {
     "name": "stderr",
     "output_type": "stream",
     "text": [
      "/var/folders/_n/tn6737qj6tg3h8j4vjr026ww0000gn/T/ipykernel_47010/836370197.py:3: SettingWithCopyWarning: \n",
      "A value is trying to be set on a copy of a slice from a DataFrame.\n",
      "Try using .loc[row_indexer,col_indexer] = value instead\n",
      "\n",
      "See the caveats in the documentation: https://pandas.pydata.org/pandas-docs/stable/user_guide/indexing.html#returning-a-view-versus-a-copy\n",
      "  temp['symbol'] = temp['symbol'].str.replace('am','')\n"
     ]
    }
   ],
   "source": [
    "#poly\n",
    "temp = pw1.loc[pw1['protocol_id'] == 'matic_aave']\n",
    "temp['symbol'] = temp['symbol'].str.replace('am','')\n",
    "temp = temp[['symbol','amount']]\n",
    "temp.loc[temp['symbol'] == 'WETH',['symbol']] = 'ETH'\n",
    "temp.loc[temp['symbol'] == 'WMATIC',['symbol']] = 'MATIC'\n",
    "df = df.merge(temp,on='symbol',how='left')\n",
    "df['polygon Ecosystem Collection'] = df['amount']\n",
    "df = df.drop(columns='amount').fillna(0)"
   ]
  },
  {
   "cell_type": "code",
   "execution_count": 98,
   "id": "66febec7",
   "metadata": {},
   "outputs": [],
   "source": [
    "#avax\n",
    "temp = aw1.loc[aw1['protocol_id'] == 'avax_aave']\n",
    "temp['symbol'] = temp['symbol'].str.replace('av','')\n",
    "temp = temp[['symbol','amount']]\n",
    "temp.loc[temp['symbol'] == 'WETH',['symbol']] = 'ETH'\n",
    "df = df.merge(temp,on='symbol',how='left')\n",
    "df['avax Ecosystem Collection'] = df['amount']\n",
    "df = df.drop(columns='amount').fillna(0)"
   ]
  },
  {
   "cell_type": "code",
   "execution_count": 99,
   "id": "4151853c",
   "metadata": {},
   "outputs": [],
   "source": [
    "df['Total Collections'] = (df['V1 Ecosystem Collection']+\n",
    "                           df['V2 Ecosystem Collection']+\n",
    "                           df['amm Ecosystem Collection']+\n",
    "                           df['polygon Ecosystem Collection']+\n",
    "                           df['avax Ecosystem Collection']\n",
    "                          )"
   ]
  },
  {
   "cell_type": "code",
   "execution_count": 100,
   "id": "8199058c",
   "metadata": {},
   "outputs": [],
   "source": [
    "df['Percentage of Total Collections USD'] = (df['Total Collections'] * df['this_week_price_usd']) / ((df['Total Collections'] * df['this_week_price_usd']).sum())"
   ]
  },
  {
   "cell_type": "code",
   "execution_count": 101,
   "id": "adb19240",
   "metadata": {},
   "outputs": [],
   "source": [
    "df['TVL Safety Module + Ecosystem Reserve'] = ((df['polygon Reserve Factor Accrued USD'] + ((df['V1 Ecosystem Collection']+df['V2 Ecosystem Collection']) * df['this_week_price_usd']))/((df['polygon Reserve Factor Accrued USD'].sum()+((df['V1 Ecosystem Collection']+df['V2 Ecosystem Collection']) * df['this_week_price_usd']).sum())))"
   ]
  },
  {
   "cell_type": "code",
   "execution_count": 102,
   "id": "d1a7e5bd",
   "metadata": {},
   "outputs": [],
   "source": [
    "TVL_per_coin = (df['Available Liquidity V1'] + df['Available Liquidity V2'] + (df['polygon Reserve Factor Accrued USD'] + ((df['V1 Ecosystem Collection']+df['V2 Ecosystem Collection']) * df['this_week_price_usd'])))\n",
    "                                                                                                                      "
   ]
  },
  {
   "cell_type": "code",
   "execution_count": 103,
   "id": "c0c6582c",
   "metadata": {},
   "outputs": [],
   "source": [
    "df['Share of TVL'] = TVL_per_coin/TVL_per_coin.sum()"
   ]
  },
  {
   "cell_type": "markdown",
   "id": "936ff122",
   "metadata": {},
   "source": [
    "# AAVE Weekly text"
   ]
  },
  {
   "cell_type": "code",
   "execution_count": 104,
   "id": "b3f93115",
   "metadata": {},
   "outputs": [],
   "source": [
    "millnames = ['',' Thousand',' Million',' Billion',' Trillion']\n",
    "\n",
    "def millify(n):\n",
    "    n = float(n)\n",
    "    millidx = max(0,min(len(millnames)-1,\n",
    "                        int(math.floor(0 if n == 0 else math.log10(abs(n))/3))))\n",
    "    return '{:.1f}{}'.format(n / 10**(3 * millidx), millnames[millidx]).replace('.0','')"
   ]
  },
  {
   "cell_type": "code",
   "execution_count": 105,
   "id": "dded4c21",
   "metadata": {},
   "outputs": [],
   "source": [
    "week = millify(dd.strftime('%U'))\n",
    "year = dd.strftime('%Y')"
   ]
  },
  {
   "cell_type": "code",
   "execution_count": 106,
   "id": "406bc2f9",
   "metadata": {},
   "outputs": [],
   "source": [
    "total_liquidity_usd_rounded = millify(df['Total Liquidity'].sum())"
   ]
  },
  {
   "cell_type": "code",
   "execution_count": 107,
   "id": "09c5ee1f",
   "metadata": {},
   "outputs": [],
   "source": [
    "utalization_rounded = ((df['Total Borrows USD'].sum() / df['Total Liquidity'].sum())*100).round(2)"
   ]
  },
  {
   "cell_type": "code",
   "execution_count": 108,
   "id": "a2f3134b",
   "metadata": {},
   "outputs": [],
   "source": [
    "interst_for_depositors_rounded = millify((df['V1 Interests USD'] +\n",
    "                          df['V2 Interests USD'] +\n",
    "                          df['amm Interests USD'] +\n",
    "                          df['polygon Interests USD'] +\n",
    "                          df['avax Interests USD']\n",
    "                         ).sum())"
   ]
  },
  {
   "cell_type": "code",
   "execution_count": 109,
   "id": "31c83415",
   "metadata": {},
   "outputs": [],
   "source": [
    "flashloan_volume_rounded = millify((df['V1 Flashloans USD'] +\n",
    "                          df['V2 Flashloans USD'] +\n",
    "                          df['amm Flashloans USD'] +\n",
    "                          df['polygon Flashloans USD'] +\n",
    "                          df['avax Flashloans USD']\n",
    "                         ).sum())"
   ]
  },
  {
   "cell_type": "code",
   "execution_count": 110,
   "id": "f9f37150",
   "metadata": {},
   "outputs": [],
   "source": [
    "flashloan_fees_rounded = millify((df['V1 Flashloans Fees USD'] +\n",
    "                          df['V2 Flashloans Fees USD'] +\n",
    "                          df['amm Flashloans Fees USD'] +\n",
    "                          df['polygon Flashloans Fees USD'] +\n",
    "                          df['avax Flashloans Fees USD']\n",
    "                         ).sum())"
   ]
  },
  {
   "cell_type": "code",
   "execution_count": 111,
   "id": "95b1c7d1",
   "metadata": {},
   "outputs": [],
   "source": [
    "total_liquidations_rounded  = millify(df['Total Liquidations'].sum())"
   ]
  },
  {
   "cell_type": "code",
   "execution_count": 112,
   "id": "17e4ac43",
   "metadata": {},
   "outputs": [],
   "source": [
    "total_bonus_rounded = millify(df['Total Bonus USD'].sum())"
   ]
  },
  {
   "cell_type": "code",
   "execution_count": 113,
   "id": "f4fb2738",
   "metadata": {},
   "outputs": [],
   "source": [
    "ecosystem_collector_increase_rounded = millify((df['V2 Reserve USD'] +\n",
    "                          df['amm Reserve USD'] +\n",
    "                          df['polygon Reserve USD'] +\n",
    "                          df['avax Reserve USD'] +\n",
    "                          (df['V1 Flashloans Fees USD'] * .3) \n",
    "                         ).sum())"
   ]
  },
  {
   "cell_type": "code",
   "execution_count": 114,
   "id": "a1da8ea1",
   "metadata": {},
   "outputs": [],
   "source": [
    "total_ecosystem_collector_rounded = millify(df['Total Collections'].sum())"
   ]
  },
  {
   "cell_type": "code",
   "execution_count": 115,
   "id": "b1bfd80d",
   "metadata": {},
   "outputs": [],
   "source": [
    "income_generated_by_protocol = millify((df['V1 Interests USD'] +\n",
    "                          df['V2 Interests USD'] +\n",
    "                          df['amm Interests USD'] +\n",
    "                          df['polygon Interests USD'] +\n",
    "                          df['avax Interests USD'] +\n",
    "                          df['V1 Flashloans Fees USD'] +\n",
    "                          df['V2 Flashloans Fees USD'] +\n",
    "                          df['amm Flashloans Fees USD'] +\n",
    "                          df['polygon Flashloans Fees USD'] +\n",
    "                          df['avax Flashloans Fees USD'] +\n",
    "                          df['V2 Reserve USD'] +\n",
    "                          df['amm Reserve USD'] +\n",
    "                          df['polygon Reserve USD'] +\n",
    "                          df['avax Reserve USD'] +\n",
    "                          (df['V1 Flashloans Fees USD'] * .3)+\n",
    "                          df['Total Bonus USD']\n",
    "                         ).sum())"
   ]
  },
  {
   "cell_type": "code",
   "execution_count": 116,
   "id": "634ce726",
   "metadata": {},
   "outputs": [],
   "source": [
    "stkAAVE_distribution_rounded = millify(((df['V2 Depositor LM'] +\n",
    "                                        df['V2 Borrower LM']\n",
    "                                       ) * aave_price).sum())"
   ]
  },
  {
   "cell_type": "code",
   "execution_count": 117,
   "id": "d9073647",
   "metadata": {},
   "outputs": [],
   "source": [
    "wavax_price = df.loc[df['symbol'] == 'WAVAX']['this_week_price_usd'].iloc[0]"
   ]
  },
  {
   "cell_type": "code",
   "execution_count": 118,
   "id": "de2ffcf6",
   "metadata": {},
   "outputs": [],
   "source": [
    "WAVAX_distribution_rounded = millify(((df['avax Depositor LM'] +\n",
    "                                        df['avax Borrower LM']\n",
    "                                       ) * wavax_price).sum())"
   ]
  },
  {
   "cell_type": "code",
   "execution_count": 119,
   "id": "7b88d05d",
   "metadata": {},
   "outputs": [
    {
     "name": "stdout",
     "output_type": "stream",
     "text": [
      "The Aave Protocol closes week 26 of 2022 with $7.1 Billion of liquidity:\n",
      "24.63% Utilisation, generating $724.1 Thousand of estimated interest for depositors\n",
      "$17.7 Million of Flash Loan volume, generating $15.9 Thousand of fees for depositors\n",
      "$601.5 Thousand liquidated, generating $30.4 Thousand of fees to liquidators\n",
      "$106.5 Thousand for the ecosystem collectors now holding $37.8 Million\n",
      "$877 Thousand generated by the protocol this week \n",
      "With an additional $524.6 Thousand $StkAAVE & $0 $WAVAX distributed\n",
      "*at the weekly close price\n",
      "\n"
     ]
    }
   ],
   "source": [
    "print(f\"\"\"The Aave Protocol closes week {week} of {year} with ${total_liquidity_usd_rounded} of liquidity:\n",
    "{utalization_rounded}% Utilisation, generating ${interst_for_depositors_rounded} of estimated interest for depositors\n",
    "${flashloan_volume_rounded} of Flash Loan volume, generating ${flashloan_fees_rounded} of fees for depositors\n",
    "${total_liquidations_rounded} liquidated, generating ${total_bonus_rounded} of fees to liquidators\n",
    "${ecosystem_collector_increase_rounded} for the ecosystem collectors now holding ${total_ecosystem_collector_rounded}\n",
    "${income_generated_by_protocol} generated by the protocol this week \n",
    "With an additional ${stkAAVE_distribution_rounded} $StkAAVE & ${WAVAX_distribution_rounded} $WAVAX distributed\n",
    "*at the weekly close price\n",
    "\"\"\")"
   ]
  },
  {
   "cell_type": "code",
   "execution_count": 120,
   "id": "50104ed7",
   "metadata": {},
   "outputs": [],
   "source": [
    "df.to_csv('week'+dd.strftime('%U')+'.csv',index=False)"
   ]
  },
  {
   "cell_type": "markdown",
   "id": "2765ee83",
   "metadata": {},
   "source": [
    "# Staked"
   ]
  },
  {
   "cell_type": "code",
   "execution_count": 121,
   "id": "6a35dcc2",
   "metadata": {},
   "outputs": [],
   "source": [
    "stk.to_csv('stk_week_'+dd.strftime('%U')+'.csv',index=False)"
   ]
  },
  {
   "cell_type": "code",
   "execution_count": null,
   "id": "d759b70e",
   "metadata": {},
   "outputs": [],
   "source": []
  },
  {
   "cell_type": "code",
   "execution_count": null,
   "id": "d5257bbe",
   "metadata": {},
   "outputs": [],
   "source": []
  },
  {
   "cell_type": "code",
   "execution_count": null,
   "id": "7a3d8b1b",
   "metadata": {},
   "outputs": [],
   "source": []
  },
  {
   "cell_type": "code",
   "execution_count": null,
   "id": "fb22f01d",
   "metadata": {},
   "outputs": [],
   "source": []
  }
 ],
 "metadata": {
  "kernelspec": {
   "display_name": "Python 3 (ipykernel)",
   "language": "python",
   "name": "python3"
  },
  "language_info": {
   "codemirror_mode": {
    "name": "ipython",
    "version": 3
   },
   "file_extension": ".py",
   "mimetype": "text/x-python",
   "name": "python",
   "nbconvert_exporter": "python",
   "pygments_lexer": "ipython3",
   "version": "3.9.12"
  }
 },
 "nbformat": 4,
 "nbformat_minor": 5
}
