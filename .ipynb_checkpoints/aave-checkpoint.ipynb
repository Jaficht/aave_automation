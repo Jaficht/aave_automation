{
 "cells": [
  {
   "cell_type": "code",
   "execution_count": 615,
   "id": "a4093f15",
   "metadata": {},
   "outputs": [],
   "source": [
    "import pandas as pd\n",
    "import requests\n",
    "import json\n",
    "from datetime import datetime as dt\n",
    "from datetime import timedelta\n",
    "pd.set_option('display.float_format', lambda x: '%.5f' % x)\n",
    "import math"
   ]
  },
  {
   "cell_type": "code",
   "execution_count": 496,
   "id": "432029cf",
   "metadata": {},
   "outputs": [],
   "source": [
    "#Config \n",
    "dd  = dt(2022,2,20)"
   ]
  },
  {
   "cell_type": "code",
   "execution_count": 497,
   "id": "f8ee6b23",
   "metadata": {},
   "outputs": [],
   "source": [
    "odd = dd - timedelta(days=7)\n",
    "date = dd.strftime('%m-%d-%Y')\n",
    "o_date = odd.strftime('%m-%d-%Y')"
   ]
  },
  {
   "cell_type": "code",
   "execution_count": 498,
   "id": "4846a702",
   "metadata": {},
   "outputs": [],
   "source": [
    "try:\n",
    "    v1_req = requests.get(\"https://aave-api-v2.aave.com/data/liquidity/v1?poolId=0x24a42fd28c976a61df5d00d0599c34c4f90748c8&date=\" + date)\n",
    "    v1 = pd.json_normalize(json.loads(v1_req.text))\n",
    "    v1_req_old = requests.get(\"https://aave-api-v2.aave.com/data/liquidity/v1?poolId=0x24a42fd28c976a61df5d00d0599c34c4f90748c8&date=\" + o_date)\n",
    "    v1_old = pd.json_normalize(json.loads(v1_req_old.text))\n",
    "except: \n",
    "    print('V1 ERROR')\n",
    "try:\n",
    "    v2_req = requests.get(\"https://aave-api-v2.aave.com/data/liquidity/v2?poolId=0xb53c1a33016b2dc2ff3653530bff1848a515c8c5&date=\" + date)\n",
    "    v2 = pd.json_normalize(json.loads(v2_req.text))\n",
    "    v2_req_old = requests.get(\"https://aave-api-v2.aave.com/data/liquidity/v2?poolId=0xb53c1a33016b2dc2ff3653530bff1848a515c8c5&date=\" + o_date)\n",
    "    v2_old = pd.json_normalize(json.loads(v2_req_old.text))\n",
    "except: \n",
    "    print('V2 ERROR')\n",
    "try:\n",
    "    amm_req = requests.get(\"https://aave-api-v2.aave.com/data/liquidity/v2?poolId=0xacc030ef66f9dfeae9cbb0cd1b25654b82cfa8d5&date=\" + date)\n",
    "    amm = pd.json_normalize(json.loads(amm_req.text))\n",
    "    amm_req_old = requests.get(\"https://aave-api-v2.aave.com/data/liquidity/v2?poolId=0xacc030ef66f9dfeae9cbb0cd1b25654b82cfa8d5&date=\" + o_date)\n",
    "    amm_old = pd.json_normalize(json.loads(amm_req_old.text))\n",
    "except: \n",
    "    print('AMM ERROR')\n",
    "try:\n",
    "    polygon_req = requests.get(\"https://aave-api-v2.aave.com/data/liquidity/v2?poolId=0xd05e3e715d945b59290df0ae8ef85c1bdb684744&date=\" + date)\n",
    "    polygon = pd.json_normalize(json.loads(polygon_req.text))\n",
    "    polygon_req_old = requests.get(\"https://aave-api-v2.aave.com/data/liquidity/v2?poolId=0xd05e3e715d945b59290df0ae8ef85c1bdb684744&date=\" + o_date)\n",
    "    polygon_old = pd.json_normalize(json.loads(polygon_req_old.text))\n",
    "except: \n",
    "    print('Polygon ERROR')\n",
    "try:\n",
    "    avax_req = requests.get(\"https://aave-api-v2.aave.com/data/liquidity/v2?poolId=0xb6a86025f0fe1862b372cb0ca18ce3ede02a318f&date=\" + date)\n",
    "    avax = pd.json_normalize(json.loads(avax_req.text))\n",
    "    avax_req_old = requests.get(\"https://aave-api-v2.aave.com/data/liquidity/v2?poolId=0xb6a86025f0fe1862b372cb0ca18ce3ede02a318f&date=\" + o_date)\n",
    "    avax_old = pd.json_normalize(json.loads(avax_req_old.text))\n",
    "except: \n",
    "    print('AVAX ERROR')"
   ]
  },
  {
   "cell_type": "markdown",
   "id": "c76997ed",
   "metadata": {},
   "source": [
    "# Symbol Conversion"
   ]
  },
  {
   "cell_type": "code",
   "execution_count": 499,
   "id": "d9c82101",
   "metadata": {},
   "outputs": [
    {
     "name": "stderr",
     "output_type": "stream",
     "text": [
      "/var/folders/_n/tn6737qj6tg3h8j4vjr026ww0000gn/T/ipykernel_73047/178790247.py:1: FutureWarning: The default value of regex will change from True to False in a future version.\n",
      "  avax['symbol'] = avax['symbol'].str.replace('.e','')\n",
      "/var/folders/_n/tn6737qj6tg3h8j4vjr026ww0000gn/T/ipykernel_73047/178790247.py:2: FutureWarning: The default value of regex will change from True to False in a future version.\n",
      "  avax_old['symbol'] = avax_old['symbol'].str.replace('.e','')\n"
     ]
    }
   ],
   "source": [
    "avax['symbol'] = avax['symbol'].str.replace('.e','')\n",
    "avax_old['symbol'] = avax_old['symbol'].str.replace('.e','')"
   ]
  },
  {
   "cell_type": "code",
   "execution_count": 500,
   "id": "dd5bbea6",
   "metadata": {},
   "outputs": [],
   "source": [
    "v1.loc[v1['symbol'] == 'WETH',['symbol']] = 'ETH'\n",
    "v1_old.loc[v1_old['symbol'] == 'WETH',['symbol']] = 'ETH'\n",
    "v2.loc[v2['symbol'] == 'WETH',['symbol']] = 'ETH'\n",
    "v2_old.loc[v2_old['symbol'] == 'WETH',['symbol']] = 'ETH'\n",
    "polygon.loc[polygon['symbol'] == 'WETH',['symbol']] = 'ETH'\n",
    "polygon_old.loc[polygon_old['symbol'] == 'WETH',['symbol']] = 'ETH'\n",
    "avax.loc[avax['symbol'] == 'WETH',['symbol']] = 'ETH'\n",
    "avax_old.loc[avax_old['symbol'] == 'WETH',['symbol']] = 'ETH'"
   ]
  },
  {
   "cell_type": "code",
   "execution_count": 501,
   "id": "3a7c1a0c",
   "metadata": {},
   "outputs": [],
   "source": [
    "polygon.loc[polygon['symbol'] == 'WMATIC',['symbol']] = 'MATIC'\n",
    "polygon_old.loc[polygon_old['symbol'] == 'WMATIC',['symbol']] = 'MATIC'"
   ]
  },
  {
   "cell_type": "code",
   "execution_count": 502,
   "id": "767d927c",
   "metadata": {},
   "outputs": [],
   "source": [
    "v2.loc[v2['symbol'] == 'RENFIL',['symbol']] = 'RenFIL'\n",
    "v2_old.loc[v2_old['symbol'] == 'RENFIL',['symbol']] = 'RenFIL'"
   ]
  },
  {
   "cell_type": "code",
   "execution_count": 503,
   "id": "6b4f0e03",
   "metadata": {},
   "outputs": [],
   "source": [
    "v1.loc[v1['symbol'] == 'SUSD',['symbol']] = 'sUSD'\n",
    "v1_old.loc[v1_old['symbol'] == 'SUSD',['symbol']] = 'sUSD'\n",
    "v2.loc[v2['symbol'] == 'SUSD',['symbol']] = 'sUSD'\n",
    "v2_old.loc[v2_old['symbol'] == 'SUSD',['symbol']] = 'sUSD'"
   ]
  },
  {
   "cell_type": "code",
   "execution_count": 504,
   "id": "9c0ed57e",
   "metadata": {},
   "outputs": [],
   "source": [
    "amm['symbol'] = amm['symbol'].str.replace('Amm','')\n",
    "amm_old['symbol'] = amm_old['symbol'].str.replace('Amm','')"
   ]
  },
  {
   "cell_type": "code",
   "execution_count": 893,
   "id": "ea6e5670",
   "metadata": {},
   "outputs": [],
   "source": [
    "amm.loc[amm['symbol'] == 'WETH',['symbol']] = 'ETH'\n",
    "amm_old.loc[amm_old['symbol'] == 'WETH',['symbol']] = 'ETH'"
   ]
  },
  {
   "cell_type": "code",
   "execution_count": 896,
   "id": "88d26087",
   "metadata": {},
   "outputs": [],
   "source": [
    "all_symbols  = set(v1['symbol']).union(set(v2['symbol'])).union(set(amm['symbol'])).union(set(polygon['symbol'])).union(set(avax['symbol']))"
   ]
  },
  {
   "cell_type": "code",
   "execution_count": 897,
   "id": "c6ba6520",
   "metadata": {},
   "outputs": [],
   "source": [
    "symbols = pd.DataFrame(all_symbols).rename(columns={0:'symbol'})"
   ]
  },
  {
   "cell_type": "code",
   "execution_count": 898,
   "id": "b6e9cc92",
   "metadata": {},
   "outputs": [],
   "source": [
    "symbols['symbol'] = symbols['symbol'].drop_duplicates()\n",
    "symbols = symbols.loc[symbols['symbol'].isna() ==False]"
   ]
  },
  {
   "cell_type": "code",
   "execution_count": 899,
   "id": "7968b1d6",
   "metadata": {},
   "outputs": [],
   "source": [
    "coins = pd.read_csv('coins.csv',header=None)"
   ]
  },
  {
   "cell_type": "code",
   "execution_count": 900,
   "id": "397fceed",
   "metadata": {},
   "outputs": [],
   "source": [
    "symbols = symbols.sort_values('symbol')"
   ]
  },
  {
   "cell_type": "code",
   "execution_count": 901,
   "id": "ecf27ecd",
   "metadata": {},
   "outputs": [
    {
     "data": {
      "text/html": [
       "<div>\n",
       "<style scoped>\n",
       "    .dataframe tbody tr th:only-of-type {\n",
       "        vertical-align: middle;\n",
       "    }\n",
       "\n",
       "    .dataframe tbody tr th {\n",
       "        vertical-align: top;\n",
       "    }\n",
       "\n",
       "    .dataframe thead th {\n",
       "        text-align: right;\n",
       "    }\n",
       "</style>\n",
       "<table border=\"1\" class=\"dataframe\">\n",
       "  <thead>\n",
       "    <tr style=\"text-align: right;\">\n",
       "      <th></th>\n",
       "      <th>symbol</th>\n",
       "    </tr>\n",
       "  </thead>\n",
       "  <tbody>\n",
       "    <tr>\n",
       "      <th>4</th>\n",
       "      <td>BptBALWETH</td>\n",
       "    </tr>\n",
       "    <tr>\n",
       "      <th>52</th>\n",
       "      <td>BptWBTCWETH</td>\n",
       "    </tr>\n",
       "    <tr>\n",
       "      <th>9</th>\n",
       "      <td>GHST</td>\n",
       "    </tr>\n",
       "    <tr>\n",
       "      <th>15</th>\n",
       "      <td>GUniDAIUSDC</td>\n",
       "    </tr>\n",
       "    <tr>\n",
       "      <th>6</th>\n",
       "      <td>GUniUSDCUSDT</td>\n",
       "    </tr>\n",
       "    <tr>\n",
       "      <th>38</th>\n",
       "      <td>MATIC</td>\n",
       "    </tr>\n",
       "    <tr>\n",
       "      <th>43</th>\n",
       "      <td>STETH</td>\n",
       "    </tr>\n",
       "    <tr>\n",
       "      <th>12</th>\n",
       "      <td>SUSHI</td>\n",
       "    </tr>\n",
       "    <tr>\n",
       "      <th>13</th>\n",
       "      <td>UniAAVEWETH</td>\n",
       "    </tr>\n",
       "    <tr>\n",
       "      <th>51</th>\n",
       "      <td>UniBATWETH</td>\n",
       "    </tr>\n",
       "    <tr>\n",
       "      <th>21</th>\n",
       "      <td>UniCRVWETH</td>\n",
       "    </tr>\n",
       "    <tr>\n",
       "      <th>5</th>\n",
       "      <td>UniDAIUSDC</td>\n",
       "    </tr>\n",
       "    <tr>\n",
       "      <th>0</th>\n",
       "      <td>UniDAIWETH</td>\n",
       "    </tr>\n",
       "    <tr>\n",
       "      <th>26</th>\n",
       "      <td>UniLINKWETH</td>\n",
       "    </tr>\n",
       "    <tr>\n",
       "      <th>27</th>\n",
       "      <td>UniMKRWETH</td>\n",
       "    </tr>\n",
       "    <tr>\n",
       "      <th>20</th>\n",
       "      <td>UniRENWETH</td>\n",
       "    </tr>\n",
       "    <tr>\n",
       "      <th>11</th>\n",
       "      <td>UniSNXWETH</td>\n",
       "    </tr>\n",
       "    <tr>\n",
       "      <th>37</th>\n",
       "      <td>UniUNIWETH</td>\n",
       "    </tr>\n",
       "    <tr>\n",
       "      <th>48</th>\n",
       "      <td>UniUSDCWETH</td>\n",
       "    </tr>\n",
       "    <tr>\n",
       "      <th>40</th>\n",
       "      <td>UniWBTCUSDC</td>\n",
       "    </tr>\n",
       "    <tr>\n",
       "      <th>36</th>\n",
       "      <td>UniWBTCWETH</td>\n",
       "    </tr>\n",
       "    <tr>\n",
       "      <th>2</th>\n",
       "      <td>UniYFIWETH</td>\n",
       "    </tr>\n",
       "  </tbody>\n",
       "</table>\n",
       "</div>"
      ],
      "text/plain": [
       "          symbol\n",
       "4     BptBALWETH\n",
       "52   BptWBTCWETH\n",
       "9           GHST\n",
       "15   GUniDAIUSDC\n",
       "6   GUniUSDCUSDT\n",
       "38         MATIC\n",
       "43         STETH\n",
       "12         SUSHI\n",
       "13   UniAAVEWETH\n",
       "51    UniBATWETH\n",
       "21    UniCRVWETH\n",
       "5     UniDAIUSDC\n",
       "0     UniDAIWETH\n",
       "26   UniLINKWETH\n",
       "27    UniMKRWETH\n",
       "20    UniRENWETH\n",
       "11    UniSNXWETH\n",
       "37    UniUNIWETH\n",
       "48   UniUSDCWETH\n",
       "40   UniWBTCUSDC\n",
       "36   UniWBTCWETH\n",
       "2     UniYFIWETH"
      ]
     },
     "execution_count": 901,
     "metadata": {},
     "output_type": "execute_result"
    }
   ],
   "source": [
    "#These are not in the current dashboard\n",
    "symbols.loc[~symbols['symbol'].isin(coins[0])]"
   ]
  },
  {
   "cell_type": "markdown",
   "id": "d771cac2",
   "metadata": {},
   "source": [
    "# Combine Prices"
   ]
  },
  {
   "cell_type": "code",
   "execution_count": 511,
   "id": "f476c33f",
   "metadata": {},
   "outputs": [],
   "source": [
    "v2_prices = symbols.merge(v2[['symbol','referenceItem.priceInUsd']],on='symbol',how='left').merge(v2_old[['symbol','referenceItem.priceInUsd']],on='symbol',how='outer')\n",
    "v2_prices = v2_prices.loc[v2_prices['referenceItem.priceInUsd_x'].isna()==False]"
   ]
  },
  {
   "cell_type": "code",
   "execution_count": 512,
   "id": "39ced4cc",
   "metadata": {},
   "outputs": [],
   "source": [
    "amm_prices = symbols.loc[~symbols['symbol'].isin(v2_prices['symbol'])]\n",
    "amm_prices = amm_prices[['symbol']].merge(amm[['symbol','referenceItem.priceInUsd']],on='symbol',how='left').merge(amm_old[['symbol','referenceItem.priceInUsd']],on='symbol',how='left')\n",
    "amm_prices = amm_prices.loc[amm_prices['referenceItem.priceInUsd_x'].isna()==False]"
   ]
  },
  {
   "cell_type": "code",
   "execution_count": 513,
   "id": "9dfa3437",
   "metadata": {},
   "outputs": [],
   "source": [
    "avax_prices = symbols.loc[(~symbols['symbol'].isin(v2_prices['symbol'])) & (~symbols['symbol'].isin(amm['symbol']))]\n",
    "avax_prices = avax_prices[['symbol']].merge(avax[['symbol','referenceItem.priceInUsd']],on='symbol',how='left').merge(avax_old[['symbol','referenceItem.priceInUsd']],on='symbol',how='left')\n",
    "avax_prices = avax_prices.loc[avax_prices['referenceItem.priceInUsd_x'].isna()==False]"
   ]
  },
  {
   "cell_type": "code",
   "execution_count": 514,
   "id": "8df31a8c",
   "metadata": {},
   "outputs": [],
   "source": [
    "polygon_prices = symbols.loc[(~symbols['symbol'].isin(v2_prices['symbol'])) & (~symbols['symbol'].isin(amm_prices['symbol'])) & (~symbols['symbol'].isin(avax_prices['symbol']))]\n",
    "polygon_prices = polygon_prices[['symbol']].merge(polygon[['symbol','referenceItem.priceInUsd']],on='symbol',how='left').merge(polygon_old[['symbol','referenceItem.priceInUsd']],on='symbol',how='left')\n",
    "polygon_prices = polygon_prices.loc[polygon_prices['referenceItem.priceInUsd_x'].isna()==False]"
   ]
  },
  {
   "cell_type": "code",
   "execution_count": 515,
   "id": "22c49417",
   "metadata": {},
   "outputs": [],
   "source": [
    "v1_prices = symbols.loc[(~symbols['symbol'].isin(v2_prices['symbol'])) & (~symbols['symbol'].isin(amm_prices['symbol'])) & (~symbols['symbol'].isin(avax_prices['symbol'])) & (~symbols['symbol'].isin(polygon_prices['symbol']))]\n",
    "v1_prices = v1_prices[['symbol']].merge(v1[['symbol','referenceItem.priceInUsd']],on='symbol',how='left').merge(v1_old[['symbol','referenceItem.priceInUsd']],on='symbol',how='left')\n",
    "v1_prices = v1_prices.loc[v1_prices['referenceItem.priceInUsd_x'].isna()==False]"
   ]
  },
  {
   "cell_type": "code",
   "execution_count": 516,
   "id": "ea2e6eaf",
   "metadata": {},
   "outputs": [
    {
     "data": {
      "text/html": [
       "<div>\n",
       "<style scoped>\n",
       "    .dataframe tbody tr th:only-of-type {\n",
       "        vertical-align: middle;\n",
       "    }\n",
       "\n",
       "    .dataframe tbody tr th {\n",
       "        vertical-align: top;\n",
       "    }\n",
       "\n",
       "    .dataframe thead th {\n",
       "        text-align: right;\n",
       "    }\n",
       "</style>\n",
       "<table border=\"1\" class=\"dataframe\">\n",
       "  <thead>\n",
       "    <tr style=\"text-align: right;\">\n",
       "      <th></th>\n",
       "      <th>symbol</th>\n",
       "    </tr>\n",
       "  </thead>\n",
       "  <tbody>\n",
       "    <tr>\n",
       "      <th>43</th>\n",
       "      <td>STETH</td>\n",
       "    </tr>\n",
       "  </tbody>\n",
       "</table>\n",
       "</div>"
      ],
      "text/plain": [
       "   symbol\n",
       "43  STETH"
      ]
     },
     "execution_count": 516,
     "metadata": {},
     "output_type": "execute_result"
    }
   ],
   "source": [
    "#This should be empty\n",
    "symbols.loc[(~symbols['symbol'].isin(v2_prices['symbol'])) & (~symbols['symbol'].isin(amm_prices['symbol'])) & (~symbols['symbol'].isin(avax_prices['symbol'])) & (~symbols['symbol'].isin(polygon_prices['symbol']))& (~symbols['symbol'].isin(v1_prices['symbol']))]"
   ]
  },
  {
   "cell_type": "code",
   "execution_count": 517,
   "id": "6faa9c86",
   "metadata": {},
   "outputs": [],
   "source": [
    "prices = pd.concat([v2_prices,amm_prices,avax_prices,polygon_prices,v1_prices])\n",
    "prices= prices.sort_values('symbol').reset_index().drop(columns='index')\n",
    "prices.columns = ['symbol', 'this_week_price_usd','last_week_price_usd']\n",
    "prices[['this_week_price_usd','last_week_price_usd']] = prices[['this_week_price_usd','last_week_price_usd']].astype(float)"
   ]
  },
  {
   "cell_type": "markdown",
   "id": "f9956178",
   "metadata": {},
   "source": [
    "# Modify Prices"
   ]
  },
  {
   "cell_type": "code",
   "execution_count": 518,
   "id": "e0fa3006",
   "metadata": {},
   "outputs": [],
   "source": [
    "def coingeko_date(coin,date):\n",
    "    try:\n",
    "        resp = requests.get('https://api.coingecko.com/api/v3/coins/'+coin+'/history?date=' + date.strftime('%d-%m-%Y')).text\n",
    "        return json.loads(resp)['market_data']['current_price']['usd']\n",
    "    except: \n",
    "        print(error)\n",
    "        return False"
   ]
  },
  {
   "cell_type": "code",
   "execution_count": 519,
   "id": "4286894b",
   "metadata": {},
   "outputs": [],
   "source": [
    "prices.loc[prices['symbol'] == 'WAVAX',['this_week_price_usd']] = coingeko_date('wrapped-avax',dd)\n",
    "prices.loc[prices['symbol'] == 'WAVAX',['last_week_price_usd']] = coingeko_date('wrapped-avax',odd)"
   ]
  },
  {
   "cell_type": "markdown",
   "id": "a286334b",
   "metadata": {},
   "source": [
    "# Add Delta"
   ]
  },
  {
   "cell_type": "code",
   "execution_count": 520,
   "id": "3fcb1015",
   "metadata": {},
   "outputs": [],
   "source": [
    "prices['delta_price_usd'] = (prices['this_week_price_usd'] / prices['last_week_price_usd']) -1 "
   ]
  },
  {
   "cell_type": "code",
   "execution_count": 780,
   "id": "ad483ad2",
   "metadata": {},
   "outputs": [],
   "source": [
    "df = prices.copy()"
   ]
  },
  {
   "cell_type": "markdown",
   "id": "c3f3d53b",
   "metadata": {},
   "source": [
    "# Liquidity"
   ]
  },
  {
   "cell_type": "code",
   "execution_count": 781,
   "id": "6d9edcea",
   "metadata": {},
   "outputs": [],
   "source": [
    "#'Totalliquidity'"
   ]
  },
  {
   "cell_type": "code",
   "execution_count": 782,
   "id": "d532dccf",
   "metadata": {},
   "outputs": [],
   "source": [
    "df = df.merge(v1[['symbol','totalLiquidity']],on='symbol',how='left').rename(columns={'totalLiquidity':'Total Liquidity V1'})\n",
    "df = df.merge(v2[['symbol','totalLiquidity']],on='symbol',how='left').rename(columns={'totalLiquidity':'Total Liquidity V2'})\n",
    "df = df.merge(amm[['symbol','totalLiquidity']],on='symbol',how='left').rename(columns={'totalLiquidity':'Total Liquidity amm'})\n",
    "df = df.merge(polygon[['symbol','totalLiquidity']],on='symbol',how='left').rename(columns={'totalLiquidity':'Total Liquidity polygon'})\n",
    "df = df.merge(avax[['symbol','totalLiquidity']],on='symbol',how='left').rename(columns={'totalLiquidity':'Total Liquidity avax'})"
   ]
  },
  {
   "cell_type": "code",
   "execution_count": 783,
   "id": "c3559ad3",
   "metadata": {},
   "outputs": [],
   "source": [
    "df.iloc[:,-5:] = df.iloc[:,-5:].astype(float).fillna(0)"
   ]
  },
  {
   "cell_type": "code",
   "execution_count": 784,
   "id": "73dfef12",
   "metadata": {},
   "outputs": [],
   "source": [
    "df['Total Liquidity'] = (df['Total Liquidity V1'] + df['Total Liquidity V2'] + df['Total Liquidity amm'] + df['Total Liquidity polygon'] + df['Total Liquidity avax']) * df['this_week_price_usd']"
   ]
  },
  {
   "cell_type": "code",
   "execution_count": 785,
   "id": "8bd0397f",
   "metadata": {},
   "outputs": [],
   "source": [
    "df = df.merge(v1[['symbol','availableLiquidity']],on='symbol',how='left').rename(columns={'availableLiquidity':'Available Liquidity V1'})\n",
    "df = df.merge(v2[['symbol','availableLiquidity']],on='symbol',how='left').rename(columns={'availableLiquidity':'Available Liquidity V2'})\n",
    "df = df.merge(amm[['symbol','availableLiquidity']],on='symbol',how='left').rename(columns={'availableLiquidity':'Available Liquidity amm'})\n",
    "df = df.merge(polygon[['symbol','availableLiquidity']],on='symbol',how='left').rename(columns={'availableLiquidity':'Available Liquidity polygon'})\n",
    "df = df.merge(avax[['symbol','availableLiquidity']],on='symbol',how='left').rename(columns={'availableLiquidity':'Available Liquidity avax'})"
   ]
  },
  {
   "cell_type": "code",
   "execution_count": 786,
   "id": "f1095125",
   "metadata": {},
   "outputs": [],
   "source": [
    "df.iloc[:,-5:] = df.iloc[:,-5:].astype(float).fillna(0)"
   ]
  },
  {
   "cell_type": "code",
   "execution_count": 787,
   "id": "3773e350",
   "metadata": {},
   "outputs": [],
   "source": [
    "total_available_liquidity_usd = (((df['Available Liquidity V1'] + df['Available Liquidity V2'] + df['Available Liquidity amm'] + df['Available Liquidity polygon'] + df['Available Liquidity avax'])) * df['this_week_price_usd']).sum()"
   ]
  },
  {
   "cell_type": "code",
   "execution_count": 788,
   "id": "f0fe3dc3",
   "metadata": {},
   "outputs": [],
   "source": [
    "df['share'] = ((df['Available Liquidity V1'] + df['Available Liquidity V2'] + df['Available Liquidity amm'] + df['Available Liquidity polygon'] + df['Available Liquidity avax']) * df['this_week_price_usd'])/total_available_liquidity_usd"
   ]
  },
  {
   "cell_type": "markdown",
   "id": "6deb000a",
   "metadata": {},
   "source": [
    "# Borrows"
   ]
  },
  {
   "cell_type": "code",
   "execution_count": 789,
   "id": "1afaf905",
   "metadata": {},
   "outputs": [],
   "source": [
    "#v1 Totalborrows Totalborrowsstable Totalborrowsvariable\n",
    "# others totalVariableDebt and totalStableDebt"
   ]
  },
  {
   "cell_type": "code",
   "execution_count": 790,
   "id": "f1653cc8",
   "metadata": {},
   "outputs": [],
   "source": [
    "df = df.merge(v1[['symbol','totalBorrowsStable','totalBorrowsVariable']],on='symbol',how='left').rename(columns={'totalBorrowsStable':'Total Borrows Stable V1','totalBorrowsVariable':'Total Borrows Variable V1'})\n",
    "df = df.merge(v2[['symbol','totalVariableDebt','totalStableDebt']],on='symbol',how='left').rename(columns={'totalStableDebt':'Total Borrows Stable V2','totalVariableDebt':'Total Borrows Variable V2'})\n",
    "df = df.merge(amm[['symbol','totalVariableDebt','totalStableDebt']],on='symbol',how='left').rename(columns={'totalStableDebt':'Total Borrows Stable amm','totalVariableDebt':'Total Borrows Variable amm'})\n",
    "df = df.merge(polygon[['symbol','totalVariableDebt','totalStableDebt']],on='symbol',how='left').rename(columns={'totalStableDebt':'Total Borrows Stable polygon','totalVariableDebt':'Total Borrows Variable polygon'})\n",
    "df = df.merge(avax[['symbol','totalVariableDebt','totalStableDebt']],on='symbol',how='left').rename(columns={'totalStableDebt':'Total Borrows Stable avax','totalVariableDebt':'Total Borrows Variable avax'})"
   ]
  },
  {
   "cell_type": "code",
   "execution_count": 791,
   "id": "360ebaf5",
   "metadata": {},
   "outputs": [],
   "source": [
    "df[['Total Borrows Stable V1','Total Borrows Variable V1',\n",
    "    'Total Borrows Stable V2','Total Borrows Variable V2',\n",
    "    'Total Borrows Stable amm','Total Borrows Variable amm',\n",
    "    'Total Borrows Stable polygon','Total Borrows Variable polygon',\n",
    "    'Total Borrows Stable avax','Total Borrows Variable avax']] = df[['Total Borrows Stable V1','Total Borrows Variable V1',\n",
    "    'Total Borrows Stable V2','Total Borrows Variable V2',\n",
    "    'Total Borrows Stable amm','Total Borrows Variable amm',\n",
    "    'Total Borrows Stable polygon','Total Borrows Variable polygon',\n",
    "    'Total Borrows Stable avax','Total Borrows Variable avax']].astype(float).fillna(0)"
   ]
  },
  {
   "cell_type": "code",
   "execution_count": 792,
   "id": "b806e120",
   "metadata": {},
   "outputs": [],
   "source": [
    "df['Total Borrows V1'] = df['Total Borrows Stable V1'] + df['Total Borrows Variable V1']\n",
    "df['Total Borrows V2'] = df['Total Borrows Stable V2'] + df['Total Borrows Variable V2']\n",
    "df['Total Borrows amm'] = df['Total Borrows Stable amm'] + df['Total Borrows Variable amm']\n",
    "df['Total Borrows polygon'] = df['Total Borrows Stable polygon'] + df['Total Borrows Variable polygon']\n",
    "df['Total Borrows avax'] = df['Total Borrows Stable avax'] + df['Total Borrows Variable avax']"
   ]
  },
  {
   "cell_type": "code",
   "execution_count": 793,
   "id": "8fd73d93",
   "metadata": {},
   "outputs": [],
   "source": [
    "df['Total Borrows Variable'] = df[['Total Borrows Variable V1',\n",
    "    'Total Borrows Variable V2',\n",
    "    'Total Borrows Variable amm',\n",
    "    'Total Borrows Variable polygon',\n",
    "    'Total Borrows Variable avax']].sum(axis=1)"
   ]
  },
  {
   "cell_type": "code",
   "execution_count": 794,
   "id": "f745f252",
   "metadata": {},
   "outputs": [],
   "source": [
    "df['Total Borrows Stable'] = df[['Total Borrows Stable V1',\n",
    "    'Total Borrows Stable V2',\n",
    "    'Total Borrows Stable amm',\n",
    "    'Total Borrows Stable polygon',\n",
    "    'Total Borrows Stable avax']].sum(axis=1)"
   ]
  },
  {
   "cell_type": "code",
   "execution_count": 795,
   "id": "8ec3d531",
   "metadata": {},
   "outputs": [],
   "source": [
    "df['Total Borrows Variable USD'] = df['this_week_price_usd'] * df['Total Borrows Variable']"
   ]
  },
  {
   "cell_type": "code",
   "execution_count": 796,
   "id": "ea0d023c",
   "metadata": {},
   "outputs": [],
   "source": [
    "df['Total Borrows Stable USD'] = df['this_week_price_usd'] * df['Total Borrows Stable']"
   ]
  },
  {
   "cell_type": "code",
   "execution_count": 797,
   "id": "b398fbaf",
   "metadata": {},
   "outputs": [],
   "source": [
    "df['Total Borrows'] = df['Total Borrows Variable'] + df['Total Borrows Stable']"
   ]
  },
  {
   "cell_type": "code",
   "execution_count": 798,
   "id": "b1246225",
   "metadata": {},
   "outputs": [],
   "source": [
    "df['Total Borrows USD'] = df['Total Borrows Variable USD'] + df['Total Borrows Stable USD']"
   ]
  },
  {
   "cell_type": "code",
   "execution_count": 799,
   "id": "69f722d2",
   "metadata": {},
   "outputs": [],
   "source": [
    "total_borrows = (\n",
    "(df['Total Borrows V1'] +\n",
    "df['Total Borrows V2'] +\n",
    "df['Total Borrows amm'] +\n",
    "df['Total Borrows polygon'] +\n",
    "df['Total Borrows avax'] \n",
    ") * df['this_week_price_usd']).sum()"
   ]
  },
  {
   "cell_type": "code",
   "execution_count": 800,
   "id": "d75e584a",
   "metadata": {},
   "outputs": [],
   "source": [
    "df['Share of borrows'] = (df['Total Borrows V1'] +\n",
    "df['Total Borrows V2'] +\n",
    "df['Total Borrows amm'] +\n",
    "df['Total Borrows polygon'] +\n",
    "df['Total Borrows avax'] \n",
    ")/total_borrows"
   ]
  },
  {
   "cell_type": "markdown",
   "id": "89cabfb8",
   "metadata": {},
   "source": [
    "# Interest and Reserve"
   ]
  },
  {
   "cell_type": "code",
   "execution_count": 801,
   "id": "a64e4fc3",
   "metadata": {},
   "outputs": [],
   "source": [
    "#Lifetimedepositorsinterestearned\n",
    "#Lifetimereservefactoraccrued"
   ]
  },
  {
   "cell_type": "code",
   "execution_count": 802,
   "id": "e1bbc148",
   "metadata": {},
   "outputs": [],
   "source": [
    "temp_int = v1[['symbol','lifetimeDepositorsInterestEarned','decimals']].merge(v1_old[['symbol','lifetimeDepositorsInterestEarned']],on='symbol',how='left')\n",
    "temp_int['v1_delta'] = (temp_int['lifetimeDepositorsInterestEarned_x'].astype(float) - temp_int['lifetimeDepositorsInterestEarned_y'].astype(float))/10**temp_int['decimals']\n",
    "df =df.merge(temp_int[['symbol','v1_delta']],on='symbol',how='left').fillna(0)\n",
    "df['V1 Interests USD'] = df['v1_delta'] * df['this_week_price_usd']\n",
    "df = df.drop(columns='v1_delta')"
   ]
  },
  {
   "cell_type": "code",
   "execution_count": 803,
   "id": "66bc327f",
   "metadata": {},
   "outputs": [],
   "source": [
    "temp_int = v2[['symbol','lifetimeDepositorsInterestEarned','lifetimeReserveFactorAccrued','decimals']].merge(v2_old[['symbol','lifetimeDepositorsInterestEarned','lifetimeReserveFactorAccrued']],on='symbol',how='left')\n",
    "temp_int['int_delta'] = (temp_int['lifetimeDepositorsInterestEarned_x'].astype(float) - temp_int['lifetimeDepositorsInterestEarned_y'].astype(float))/10**temp_int['decimals']\n",
    "temp_int['r_delta'] = (temp_int['lifetimeReserveFactorAccrued_x'].astype(float) - temp_int['lifetimeReserveFactorAccrued_y'].astype(float))/10**temp_int['decimals']\n",
    "df =df.merge(temp_int[['symbol','int_delta','r_delta']],on='symbol',how='left').fillna(0)\n",
    "df['V2 Interests USD'] = df['int_delta'] * df['this_week_price_usd']\n",
    "df['V2 Reserve USD'] = df['r_delta'] * df['this_week_price_usd']\n",
    "df = df.drop(columns=['int_delta','r_delta'])"
   ]
  },
  {
   "cell_type": "code",
   "execution_count": 804,
   "id": "f05fa1fb",
   "metadata": {},
   "outputs": [],
   "source": [
    "temp_int = amm[['symbol','lifetimeDepositorsInterestEarned','lifetimeReserveFactorAccrued','decimals']].merge(amm_old[['symbol','lifetimeDepositorsInterestEarned','lifetimeReserveFactorAccrued']],on='symbol',how='left')\n",
    "temp_int['int_delta'] = (temp_int['lifetimeDepositorsInterestEarned_x'].astype(float) - temp_int['lifetimeDepositorsInterestEarned_y'].astype(float))/10**temp_int['decimals']\n",
    "temp_int['r_delta'] = (temp_int['lifetimeReserveFactorAccrued_x'].astype(float) - temp_int['lifetimeReserveFactorAccrued_y'].astype(float))/10**temp_int['decimals']\n",
    "df =df.merge(temp_int[['symbol','int_delta','r_delta']],on='symbol',how='left').fillna(0)\n",
    "df['amm Interests USD'] = df['int_delta'] * df['this_week_price_usd']\n",
    "df['amm Reserve USD'] = df['r_delta'] * df['this_week_price_usd']\n",
    "df = df.drop(columns=['int_delta','r_delta'])"
   ]
  },
  {
   "cell_type": "code",
   "execution_count": 805,
   "id": "906135c5",
   "metadata": {},
   "outputs": [],
   "source": [
    "temp_int = polygon[['symbol','lifetimeDepositorsInterestEarned','lifetimeReserveFactorAccrued','decimals']].merge(polygon_old[['symbol','lifetimeDepositorsInterestEarned','lifetimeReserveFactorAccrued']],on='symbol',how='left')\n",
    "temp_int['int_delta'] = (temp_int['lifetimeDepositorsInterestEarned_x'].astype(float) - temp_int['lifetimeDepositorsInterestEarned_y'].astype(float))/10**temp_int['decimals']\n",
    "temp_int['r_delta'] = (temp_int['lifetimeReserveFactorAccrued_x'].astype(float) - temp_int['lifetimeReserveFactorAccrued_y'].astype(float))/10**temp_int['decimals']\n",
    "df =df.merge(temp_int[['symbol','int_delta','r_delta']],on='symbol',how='left').fillna(0)\n",
    "df['polygon Interests USD'] = df['int_delta'] * df['this_week_price_usd']\n",
    "df['polygon Reserve USD'] = df['r_delta'] * df['this_week_price_usd']\n",
    "df = df.drop(columns=['int_delta','r_delta'])"
   ]
  },
  {
   "cell_type": "code",
   "execution_count": 806,
   "id": "420d1408",
   "metadata": {},
   "outputs": [],
   "source": [
    "temp_int = avax[['symbol','lifetimeDepositorsInterestEarned','lifetimeReserveFactorAccrued','decimals']].merge(avax_old[['symbol','lifetimeDepositorsInterestEarned','lifetimeReserveFactorAccrued']],on='symbol',how='left')\n",
    "temp_int['int_delta'] = (temp_int['lifetimeDepositorsInterestEarned_x'].astype(float) - temp_int['lifetimeDepositorsInterestEarned_y'].astype(float))/10**temp_int['decimals']\n",
    "temp_int['r_delta'] = (temp_int['lifetimeReserveFactorAccrued_x'].astype(float) - temp_int['lifetimeReserveFactorAccrued_y'].astype(float))/10**temp_int['decimals']\n",
    "df =df.merge(temp_int[['symbol','int_delta','r_delta']],on='symbol',how='left').fillna(0)\n",
    "df['avax Interests USD'] = df['int_delta'] * df['this_week_price_usd']\n",
    "df['avax Reserve USD'] = df['r_delta'] * df['this_week_price_usd']\n",
    "df = df.drop(columns=['int_delta','r_delta'])"
   ]
  },
  {
   "cell_type": "markdown",
   "id": "872d81f3",
   "metadata": {},
   "source": [
    "# Liquidations & Bonus"
   ]
  },
  {
   "cell_type": "code",
   "execution_count": 807,
   "id": "49aa6662",
   "metadata": {},
   "outputs": [],
   "source": [
    "#Lifetimeliquidated\n",
    "#bonus v1 use mapping csv from gsheets\n",
    "#others use Reserveliquidationbonus"
   ]
  },
  {
   "cell_type": "code",
   "execution_count": 808,
   "id": "4913ac46",
   "metadata": {},
   "outputs": [],
   "source": [
    "mapping = pd.read_csv('mapping.csv').rename(columns={'Unnamed: 0':'symbol'})"
   ]
  },
  {
   "cell_type": "code",
   "execution_count": 809,
   "id": "d592ef98",
   "metadata": {},
   "outputs": [],
   "source": [
    "mapping['Bonus2'] = mapping['Bonus2'].str.replace('%','').astype(float)/100"
   ]
  },
  {
   "cell_type": "code",
   "execution_count": 810,
   "id": "3d5b69c4",
   "metadata": {},
   "outputs": [],
   "source": [
    "temp = v1[['symbol','lifetimeLiquidated','decimals']].merge(v1_old[['symbol','lifetimeLiquidated']],on='symbol',how='left').merge(mapping[['symbol','Bonus2']],on='symbol',how='left')\n",
    "temp['v1_delta'] = (temp['lifetimeLiquidated_x'].astype(float) - temp['lifetimeLiquidated_y'].astype(float))/10**temp['decimals']\n",
    "df =df.merge(temp[['symbol','v1_delta','Bonus2']],on='symbol',how='left').fillna(0)\n",
    "df['V1 Liquidations per Collateral USD'] = df['v1_delta'] * df['this_week_price_usd']\n",
    "df['V1 Bonus USD'] = df['V1 Liquidations per Collateral USD'] * df['Bonus2']\n",
    "df = df.drop(columns=['v1_delta','Bonus2'])"
   ]
  },
  {
   "cell_type": "code",
   "execution_count": 811,
   "id": "5136a249",
   "metadata": {},
   "outputs": [],
   "source": [
    "temp = v2[['symbol','lifetimeLiquidated','reserveLiquidationBonus','decimals']].merge(v2_old[['symbol','lifetimeLiquidated']],on='symbol',how='left')\n",
    "temp['liq_delta'] = (temp['lifetimeLiquidated_x'].astype(float) - temp['lifetimeLiquidated_y'].astype(float))/10**temp['decimals']\n",
    "df =df.merge(temp[['symbol','liq_delta','reserveLiquidationBonus']],on='symbol',how='left').fillna(0)\n",
    "df['V2 Liquidations per Collateral USD'] = df['liq_delta'] * df['this_week_price_usd']\n",
    "df['V2 Bonus USD'] = df['V2 Liquidations per Collateral USD'] * df['reserveLiquidationBonus'].astype(float)\n",
    "df = df.drop(columns=['liq_delta','reserveLiquidationBonus'])"
   ]
  },
  {
   "cell_type": "code",
   "execution_count": 812,
   "id": "2f075a60",
   "metadata": {},
   "outputs": [],
   "source": [
    "temp = amm[['symbol','lifetimeLiquidated','reserveLiquidationBonus','decimals']].merge(amm_old[['symbol','lifetimeLiquidated']],on='symbol',how='left')\n",
    "temp['liq_delta'] = (temp['lifetimeLiquidated_x'].astype(float) - temp['lifetimeLiquidated_y'].astype(float))/10**temp['decimals']\n",
    "df =df.merge(temp[['symbol','liq_delta','reserveLiquidationBonus']],on='symbol',how='left').fillna(0)\n",
    "df['amm Liquidations per Collateral USD'] = df['liq_delta'] * df['this_week_price_usd']\n",
    "df['amm Bonus USD'] = df['amm Liquidations per Collateral USD'] * df['reserveLiquidationBonus'].astype(float)\n",
    "df = df.drop(columns=['liq_delta','reserveLiquidationBonus'])"
   ]
  },
  {
   "cell_type": "code",
   "execution_count": 813,
   "id": "eedeec71",
   "metadata": {},
   "outputs": [],
   "source": [
    "temp = polygon[['symbol','lifetimeLiquidated','reserveLiquidationBonus','decimals']].merge(polygon_old[['symbol','lifetimeLiquidated']],on='symbol',how='left')\n",
    "temp['liq_delta'] = (temp['lifetimeLiquidated_x'].astype(float) - temp['lifetimeLiquidated_y'].astype(float))/10**temp['decimals']\n",
    "df =df.merge(temp[['symbol','liq_delta','reserveLiquidationBonus']],on='symbol',how='left').fillna(0)\n",
    "df['polygon Liquidations per Collateral USD'] = df['liq_delta'] * df['this_week_price_usd']\n",
    "df['polygon Bonus USD'] = df['polygon Liquidations per Collateral USD'] * df['reserveLiquidationBonus'].astype(float)\n",
    "df = df.drop(columns=['liq_delta','reserveLiquidationBonus'])"
   ]
  },
  {
   "cell_type": "code",
   "execution_count": 814,
   "id": "2bcd46a3",
   "metadata": {},
   "outputs": [],
   "source": [
    "temp = avax[['symbol','lifetimeLiquidated','reserveLiquidationBonus','decimals']].merge(avax_old[['symbol','lifetimeLiquidated']],on='symbol',how='left')\n",
    "temp['liq_delta'] = (temp['lifetimeLiquidated_x'].astype(float) - temp['lifetimeLiquidated_y'].astype(float))/10**temp['decimals']\n",
    "df =df.merge(temp[['symbol','liq_delta','reserveLiquidationBonus']],on='symbol',how='left').fillna(0)\n",
    "df['avax Liquidations per Collateral USD'] = df['liq_delta'] * df['this_week_price_usd']\n",
    "df['avax Bonus USD'] = df['avax Liquidations per Collateral USD'] * df['reserveLiquidationBonus'].astype(float)\n",
    "df = df.drop(columns=['liq_delta','reserveLiquidationBonus'])"
   ]
  },
  {
   "cell_type": "code",
   "execution_count": 815,
   "id": "8da8255c",
   "metadata": {},
   "outputs": [],
   "source": [
    "df['Total Liquidations'] = df['V1 Liquidations per Collateral USD'] + df['V2 Liquidations per Collateral USD']+ df['amm Liquidations per Collateral USD']+df['polygon Liquidations per Collateral USD']+df['avax Liquidations per Collateral USD']"
   ]
  },
  {
   "cell_type": "code",
   "execution_count": 816,
   "id": "071e63dc",
   "metadata": {},
   "outputs": [],
   "source": [
    "df['Total Bonus USD'] = df['V1 Bonus USD'] + df['V2 Bonus USD']+ df['amm Bonus USD']+df['polygon Bonus USD']+df['avax Bonus USD']"
   ]
  },
  {
   "cell_type": "markdown",
   "id": "53318ca8",
   "metadata": {},
   "source": [
    "# Flash Loans"
   ]
  },
  {
   "cell_type": "code",
   "execution_count": 817,
   "id": "fd422cd6",
   "metadata": {},
   "outputs": [],
   "source": [
    "#Lifetimeflashloans"
   ]
  },
  {
   "cell_type": "code",
   "execution_count": 818,
   "id": "3950754a",
   "metadata": {},
   "outputs": [],
   "source": [
    "temp = v1[['symbol','lifetimeFlashLoans','decimals']].merge(v1_old[['symbol','lifetimeFlashLoans']],on='symbol',how='left')\n",
    "temp['v1_delta'] = (temp['lifetimeFlashLoans_x'].astype(float) - temp['lifetimeFlashLoans_y'].astype(float))/10**temp['decimals']\n",
    "df =df.merge(temp[['symbol','v1_delta']],on='symbol',how='left').fillna(0)\n",
    "df['V1 Flashloans USD'] = df['v1_delta'] * df['this_week_price_usd']\n",
    "df['V1 Flashloans Fees USD'] = df['V1 Flashloans USD'] * .0009\n",
    "df = df.drop(columns=['v1_delta'])"
   ]
  },
  {
   "cell_type": "code",
   "execution_count": 819,
   "id": "b3944e60",
   "metadata": {},
   "outputs": [],
   "source": [
    "temp = v2[['symbol','lifetimeFlashLoans','decimals']].merge(v2_old[['symbol','lifetimeFlashLoans']],on='symbol',how='left')\n",
    "temp['delta'] = (temp['lifetimeFlashLoans_x'].astype(float) - temp['lifetimeFlashLoans_y'].astype(float))/10**temp['decimals']\n",
    "df =df.merge(temp[['symbol','delta']],on='symbol',how='left').fillna(0)\n",
    "df['V2 Flashloans USD'] = df['delta'] * df['this_week_price_usd']\n",
    "df['V2 Flashloans Fees USD'] = df['V2 Flashloans USD'] * .0009\n",
    "df = df.drop(columns=['delta'])"
   ]
  },
  {
   "cell_type": "code",
   "execution_count": 820,
   "id": "68bbd10c",
   "metadata": {},
   "outputs": [],
   "source": [
    "temp = amm[['symbol','lifetimeFlashLoans','decimals']].merge(amm_old[['symbol','lifetimeFlashLoans']],on='symbol',how='left')\n",
    "temp['delta'] = (temp['lifetimeFlashLoans_x'].astype(float) - temp['lifetimeFlashLoans_y'].astype(float))/10**temp['decimals']\n",
    "df =df.merge(temp[['symbol','delta']],on='symbol',how='left').fillna(0)\n",
    "df['amm Flashloans USD'] = df['delta'] * df['this_week_price_usd']\n",
    "df['amm Flashloans Fees USD'] = df['amm Flashloans USD'] * .0009\n",
    "df = df.drop(columns=['delta'])"
   ]
  },
  {
   "cell_type": "code",
   "execution_count": 821,
   "id": "2c411876",
   "metadata": {},
   "outputs": [],
   "source": [
    "temp = polygon[['symbol','lifetimeFlashLoans','decimals']].merge(polygon_old[['symbol','lifetimeFlashLoans']],on='symbol',how='left')\n",
    "temp['delta'] = (temp['lifetimeFlashLoans_x'].astype(float) - temp['lifetimeFlashLoans_y'].astype(float))/10**temp['decimals']\n",
    "df =df.merge(temp[['symbol','delta']],on='symbol',how='left').fillna(0)\n",
    "df['polygon Flashloans USD'] = df['delta'] * df['this_week_price_usd']\n",
    "df['polygon Flashloans Fees USD'] = df['polygon Flashloans USD'] * .0009\n",
    "df = df.drop(columns=['delta'])"
   ]
  },
  {
   "cell_type": "code",
   "execution_count": 822,
   "id": "92094cc0",
   "metadata": {},
   "outputs": [],
   "source": [
    "temp = avax[['symbol','lifetimeFlashLoans','decimals']].merge(avax_old[['symbol','lifetimeFlashLoans']],on='symbol',how='left')\n",
    "temp['delta'] = (temp['lifetimeFlashLoans_x'].astype(float) - temp['lifetimeFlashLoans_y'].astype(float))/10**temp['decimals']\n",
    "df =df.merge(temp[['symbol','delta']],on='symbol',how='left').fillna(0)\n",
    "df['avax Flashloans USD'] = df['delta'] * df['this_week_price_usd']\n",
    "df['avax Flashloans Fees USD'] = df['avax Flashloans USD'] * .0009\n",
    "df = df.drop(columns=['delta'])"
   ]
  },
  {
   "cell_type": "markdown",
   "id": "5ac94a03",
   "metadata": {},
   "source": [
    "# LM"
   ]
  },
  {
   "cell_type": "code",
   "execution_count": 823,
   "id": "8a0650ab",
   "metadata": {},
   "outputs": [],
   "source": [
    "#Aemissionpersecond -> depositor\n",
    "#Vemissionpersecond -> borrower"
   ]
  },
  {
   "cell_type": "code",
   "execution_count": 824,
   "id": "1da81753",
   "metadata": {},
   "outputs": [
    {
     "name": "stderr",
     "output_type": "stream",
     "text": [
      "/var/folders/_n/tn6737qj6tg3h8j4vjr026ww0000gn/T/ipykernel_73047/1150418691.py:2: SettingWithCopyWarning: \n",
      "A value is trying to be set on a copy of a slice from a DataFrame.\n",
      "Try using .loc[row_indexer,col_indexer] = value instead\n",
      "\n",
      "See the caveats in the documentation: https://pandas.pydata.org/pandas-docs/stable/user_guide/indexing.html#returning-a-view-versus-a-copy\n",
      "  temp['V2 Depositor LM'] = (temp['aEmissionPerSecond'].astype(float) *24*60*60*7)/(10**18)\n",
      "/var/folders/_n/tn6737qj6tg3h8j4vjr026ww0000gn/T/ipykernel_73047/1150418691.py:3: SettingWithCopyWarning: \n",
      "A value is trying to be set on a copy of a slice from a DataFrame.\n",
      "Try using .loc[row_indexer,col_indexer] = value instead\n",
      "\n",
      "See the caveats in the documentation: https://pandas.pydata.org/pandas-docs/stable/user_guide/indexing.html#returning-a-view-versus-a-copy\n",
      "  temp['V2 Borrower LM'] = (temp['vEmissionPerSecond'].astype(float) *24*60*60*7)/(10**18)\n"
     ]
    }
   ],
   "source": [
    "temp = v2[['symbol','aEmissionPerSecond','vEmissionPerSecond','decimals']]\n",
    "temp['V2 Depositor LM'] = (temp['aEmissionPerSecond'].astype(float) *24*60*60*7)/(10**18)\n",
    "temp['V2 Borrower LM'] = (temp['vEmissionPerSecond'].astype(float) *24*60*60*7)/(10**18)\n",
    "df =df.merge(temp[['symbol','V2 Depositor LM','V2 Borrower LM']],on='symbol',how='left').fillna(0)"
   ]
  },
  {
   "cell_type": "code",
   "execution_count": 825,
   "id": "acab9dd7",
   "metadata": {},
   "outputs": [
    {
     "name": "stderr",
     "output_type": "stream",
     "text": [
      "/var/folders/_n/tn6737qj6tg3h8j4vjr026ww0000gn/T/ipykernel_73047/1535140118.py:2: SettingWithCopyWarning: \n",
      "A value is trying to be set on a copy of a slice from a DataFrame.\n",
      "Try using .loc[row_indexer,col_indexer] = value instead\n",
      "\n",
      "See the caveats in the documentation: https://pandas.pydata.org/pandas-docs/stable/user_guide/indexing.html#returning-a-view-versus-a-copy\n",
      "  temp['polygon Depositor LM'] = (temp['aEmissionPerSecond'].astype(float) *24*60*60*7)/(10**18)\n",
      "/var/folders/_n/tn6737qj6tg3h8j4vjr026ww0000gn/T/ipykernel_73047/1535140118.py:3: SettingWithCopyWarning: \n",
      "A value is trying to be set on a copy of a slice from a DataFrame.\n",
      "Try using .loc[row_indexer,col_indexer] = value instead\n",
      "\n",
      "See the caveats in the documentation: https://pandas.pydata.org/pandas-docs/stable/user_guide/indexing.html#returning-a-view-versus-a-copy\n",
      "  temp['polygon Borrower LM'] = (temp['vEmissionPerSecond'].astype(float) *24*60*60*7)/(10**18)\n"
     ]
    }
   ],
   "source": [
    "temp = polygon[['symbol','aEmissionPerSecond','vEmissionPerSecond','decimals']]\n",
    "temp['polygon Depositor LM'] = (temp['aEmissionPerSecond'].astype(float) *24*60*60*7)/(10**18)\n",
    "temp['polygon Borrower LM'] = (temp['vEmissionPerSecond'].astype(float) *24*60*60*7)/(10**18)\n",
    "df =df.merge(temp[['symbol','polygon Depositor LM','polygon Borrower LM']],on='symbol',how='left').fillna(0)"
   ]
  },
  {
   "cell_type": "code",
   "execution_count": 826,
   "id": "6a8ac396",
   "metadata": {},
   "outputs": [
    {
     "name": "stderr",
     "output_type": "stream",
     "text": [
      "/var/folders/_n/tn6737qj6tg3h8j4vjr026ww0000gn/T/ipykernel_73047/2857605460.py:2: SettingWithCopyWarning: \n",
      "A value is trying to be set on a copy of a slice from a DataFrame.\n",
      "Try using .loc[row_indexer,col_indexer] = value instead\n",
      "\n",
      "See the caveats in the documentation: https://pandas.pydata.org/pandas-docs/stable/user_guide/indexing.html#returning-a-view-versus-a-copy\n",
      "  temp['avax Depositor LM'] = (temp['aEmissionPerSecond'].astype(float) *24*60*60*7)/(10**18)\n",
      "/var/folders/_n/tn6737qj6tg3h8j4vjr026ww0000gn/T/ipykernel_73047/2857605460.py:3: SettingWithCopyWarning: \n",
      "A value is trying to be set on a copy of a slice from a DataFrame.\n",
      "Try using .loc[row_indexer,col_indexer] = value instead\n",
      "\n",
      "See the caveats in the documentation: https://pandas.pydata.org/pandas-docs/stable/user_guide/indexing.html#returning-a-view-versus-a-copy\n",
      "  temp['avax Borrower LM'] = (temp['vEmissionPerSecond'].astype(float) *24*60*60*7)/(10**18)\n"
     ]
    }
   ],
   "source": [
    "temp = avax[['symbol','aEmissionPerSecond','vEmissionPerSecond','decimals']]\n",
    "temp['avax Depositor LM'] = (temp['aEmissionPerSecond'].astype(float) *24*60*60*7)/(10**18)\n",
    "temp['avax Borrower LM'] = (temp['vEmissionPerSecond'].astype(float) *24*60*60*7)/(10**18)\n",
    "df =df.merge(temp[['symbol','avax Depositor LM','avax Borrower LM']],on='symbol',how='left').fillna(0)"
   ]
  },
  {
   "cell_type": "markdown",
   "id": "b417d648",
   "metadata": {},
   "source": [
    "# Total Income & APY"
   ]
  },
  {
   "cell_type": "code",
   "execution_count": 827,
   "id": "8d79752a",
   "metadata": {},
   "outputs": [],
   "source": [
    "df['Total estimated weekly income'] = (df['V1 Interests USD'] +\n",
    " df['V2 Interests USD'] +\n",
    " df['V2 Reserve USD'] +\n",
    " df['amm Interests USD'] +\n",
    " df['amm Reserve USD'] +\n",
    " df['polygon Interests USD'] +\n",
    " df['polygon Reserve USD'] +\n",
    " df['avax Interests USD'] +\n",
    " df['avax Reserve USD'] +\n",
    " df['V1 Bonus USD'] +\n",
    " df['V2 Bonus USD'] +\n",
    " df['amm Bonus USD'] +\n",
    " df['polygon Bonus USD'] +\n",
    " df['avax Bonus USD'] +\n",
    " df['V1 Flashloans USD'] +\n",
    " df['V2 Flashloans USD'] +\n",
    " df['amm Flashloans USD'] +\n",
    " df['polygon Flashloans USD'] +\n",
    " df['avax Flashloans USD'] +\n",
    " df['V2 Depositor LM'] +\n",
    " df['polygon Depositor LM'] +\n",
    " df['avax Depositor LM'] +\n",
    " df['V2 Borrower LM'] +\n",
    " df['polygon Borrower LM'] +\n",
    " df['avax Borrower LM'] \n",
    ")"
   ]
  },
  {
   "cell_type": "code",
   "execution_count": 828,
   "id": "5d57ec94",
   "metadata": {},
   "outputs": [],
   "source": [
    "total_income = df['Total estimated weekly income'].sum()"
   ]
  },
  {
   "cell_type": "code",
   "execution_count": 829,
   "id": "754a58a6",
   "metadata": {},
   "outputs": [],
   "source": [
    "df['Share of income'] = df['Total estimated weekly income'] / total_income"
   ]
  },
  {
   "cell_type": "code",
   "execution_count": 830,
   "id": "6f4a7fbc",
   "metadata": {},
   "outputs": [],
   "source": [
    "total_income_minus_liquidations = total_income - (df['V1 Bonus USD'] + df['V2 Bonus USD'] + df['amm Bonus USD'] + df['polygon Bonus USD'] + df['avax Bonus USD']).sum()"
   ]
  },
  {
   "cell_type": "code",
   "execution_count": 831,
   "id": "b1b56d78",
   "metadata": {},
   "outputs": [],
   "source": [
    "df['Share of income excl liquidations'] = ((df['Total estimated weekly income']) - (df['V1 Bonus USD'] + df['V2 Bonus USD'] + df['amm Bonus USD'] + df['polygon Bonus USD'] + df['avax Bonus USD']))/total_income_minus_liquidations"
   ]
  },
  {
   "cell_type": "code",
   "execution_count": 832,
   "id": "41dacfce",
   "metadata": {},
   "outputs": [],
   "source": [
    "df['Average APY excl LM'] = ((df['Total estimated weekly income'] - (df['V2 Depositor LM'] +\n",
    "df['polygon Depositor LM'] +\n",
    "df['avax Depositor LM'] +\n",
    "df['V2 Borrower LM'] +\n",
    "df['polygon Borrower LM'] +\n",
    "df['avax Borrower LM']))*52.14)/df['Total Liquidity']"
   ]
  },
  {
   "cell_type": "code",
   "execution_count": 833,
   "id": "7eb049f5",
   "metadata": {},
   "outputs": [],
   "source": [
    "df['Average Depositor APY'] = (df['Total estimated weekly income'] - (df['V2 Borrower LM'] +\n",
    "df['polygon Borrower LM'] +\n",
    "df['avax Borrower LM'] +\n",
    "df['V1 Bonus USD'] + \n",
    "df['V2 Bonus USD'] + \n",
    "df['amm Bonus USD'] + \n",
    "df['polygon Bonus USD'] + \n",
    "df['avax Bonus USD']                                       \n",
    ")*52.14)/df['Total Liquidity']"
   ]
  },
  {
   "cell_type": "markdown",
   "id": "92377f81",
   "metadata": {},
   "source": [
    "# Reserve Factor Collections"
   ]
  },
  {
   "cell_type": "code",
   "execution_count": 834,
   "id": "8287f460",
   "metadata": {},
   "outputs": [],
   "source": [
    "#Lifetimereservefactoraccrued"
   ]
  },
  {
   "cell_type": "code",
   "execution_count": 835,
   "id": "789788a0",
   "metadata": {},
   "outputs": [
    {
     "name": "stderr",
     "output_type": "stream",
     "text": [
      "/var/folders/_n/tn6737qj6tg3h8j4vjr026ww0000gn/T/ipykernel_73047/1661154715.py:2: SettingWithCopyWarning: \n",
      "A value is trying to be set on a copy of a slice from a DataFrame.\n",
      "Try using .loc[row_indexer,col_indexer] = value instead\n",
      "\n",
      "See the caveats in the documentation: https://pandas.pydata.org/pandas-docs/stable/user_guide/indexing.html#returning-a-view-versus-a-copy\n",
      "  temp['lifetimeReserveFactorAccrued'] = temp['lifetimeReserveFactorAccrued'].astype(float) / 10**temp['decimals'].astype(float)\n"
     ]
    }
   ],
   "source": [
    "temp = v2[['symbol','lifetimeReserveFactorAccrued','decimals']]\n",
    "temp['lifetimeReserveFactorAccrued'] = temp['lifetimeReserveFactorAccrued'].astype(float) / 10**temp['decimals'].astype(float)\n",
    "temp = temp[['symbol','lifetimeReserveFactorAccrued']]\n",
    "df = df.merge(temp,on='symbol',how='left').fillna(0)\n",
    "df['V2 Reserve Factor Accrued USD'] = df['lifetimeReserveFactorAccrued'] * df['this_week_price_usd']\n",
    "df = df.drop(columns='lifetimeReserveFactorAccrued')"
   ]
  },
  {
   "cell_type": "code",
   "execution_count": 836,
   "id": "3d554658",
   "metadata": {},
   "outputs": [
    {
     "name": "stderr",
     "output_type": "stream",
     "text": [
      "/var/folders/_n/tn6737qj6tg3h8j4vjr026ww0000gn/T/ipykernel_73047/2570774784.py:2: SettingWithCopyWarning: \n",
      "A value is trying to be set on a copy of a slice from a DataFrame.\n",
      "Try using .loc[row_indexer,col_indexer] = value instead\n",
      "\n",
      "See the caveats in the documentation: https://pandas.pydata.org/pandas-docs/stable/user_guide/indexing.html#returning-a-view-versus-a-copy\n",
      "  temp['lifetimeReserveFactorAccrued'] = temp['lifetimeReserveFactorAccrued'].astype(float) / 10**temp['decimals'].astype(float)\n"
     ]
    }
   ],
   "source": [
    "temp = amm[['symbol','lifetimeReserveFactorAccrued','decimals']]\n",
    "temp['lifetimeReserveFactorAccrued'] = temp['lifetimeReserveFactorAccrued'].astype(float) / 10**temp['decimals'].astype(float)\n",
    "temp = temp[['symbol','lifetimeReserveFactorAccrued']]\n",
    "df = df.merge(temp,on='symbol',how='left').fillna(0)\n",
    "df['amm Reserve Factor Accrued USD'] = df['lifetimeReserveFactorAccrued'] * df['this_week_price_usd']\n",
    "df = df.drop(columns='lifetimeReserveFactorAccrued')"
   ]
  },
  {
   "cell_type": "code",
   "execution_count": 837,
   "id": "04591848",
   "metadata": {},
   "outputs": [
    {
     "name": "stderr",
     "output_type": "stream",
     "text": [
      "/var/folders/_n/tn6737qj6tg3h8j4vjr026ww0000gn/T/ipykernel_73047/4112480079.py:2: SettingWithCopyWarning: \n",
      "A value is trying to be set on a copy of a slice from a DataFrame.\n",
      "Try using .loc[row_indexer,col_indexer] = value instead\n",
      "\n",
      "See the caveats in the documentation: https://pandas.pydata.org/pandas-docs/stable/user_guide/indexing.html#returning-a-view-versus-a-copy\n",
      "  temp['lifetimeReserveFactorAccrued'] = temp['lifetimeReserveFactorAccrued'].astype(float) / 10**temp['decimals'].astype(float)\n"
     ]
    }
   ],
   "source": [
    "temp = polygon[['symbol','lifetimeReserveFactorAccrued','decimals']]\n",
    "temp['lifetimeReserveFactorAccrued'] = temp['lifetimeReserveFactorAccrued'].astype(float) / 10**temp['decimals'].astype(float)\n",
    "temp = temp[['symbol','lifetimeReserveFactorAccrued']]\n",
    "df = df.merge(temp,on='symbol',how='left').fillna(0)\n",
    "df['polygon Reserve Factor Accrued USD'] = df['lifetimeReserveFactorAccrued'] * df['this_week_price_usd']\n",
    "df = df.drop(columns='lifetimeReserveFactorAccrued')"
   ]
  },
  {
   "cell_type": "code",
   "execution_count": 838,
   "id": "4e4001db",
   "metadata": {},
   "outputs": [
    {
     "name": "stderr",
     "output_type": "stream",
     "text": [
      "/var/folders/_n/tn6737qj6tg3h8j4vjr026ww0000gn/T/ipykernel_73047/283958313.py:2: SettingWithCopyWarning: \n",
      "A value is trying to be set on a copy of a slice from a DataFrame.\n",
      "Try using .loc[row_indexer,col_indexer] = value instead\n",
      "\n",
      "See the caveats in the documentation: https://pandas.pydata.org/pandas-docs/stable/user_guide/indexing.html#returning-a-view-versus-a-copy\n",
      "  temp['lifetimeReserveFactorAccrued'] = temp['lifetimeReserveFactorAccrued'].astype(float) / 10**temp['decimals'].astype(float)\n"
     ]
    }
   ],
   "source": [
    "temp = avax[['symbol','lifetimeReserveFactorAccrued','decimals']]\n",
    "temp['lifetimeReserveFactorAccrued'] = temp['lifetimeReserveFactorAccrued'].astype(float) / 10**temp['decimals'].astype(float)\n",
    "temp = temp[['symbol','lifetimeReserveFactorAccrued']]\n",
    "df = df.merge(temp,on='symbol',how='left').fillna(0)\n",
    "df['avax Reserve Factor Accrued USD'] = df['lifetimeReserveFactorAccrued'] * df['this_week_price_usd']\n",
    "df = df.drop(columns='lifetimeReserveFactorAccrued')"
   ]
  },
  {
   "cell_type": "markdown",
   "id": "3fed4e62",
   "metadata": {},
   "source": [
    "# Debank &  Ecosystem Collection \t\t\t\t"
   ]
  },
  {
   "cell_type": "code",
   "execution_count": 839,
   "id": "2b60a977",
   "metadata": {},
   "outputs": [],
   "source": [
    "debank_key = 'c160185de8dfd9cf690197d8cb54290c8ab86f91'"
   ]
  },
  {
   "cell_type": "code",
   "execution_count": 840,
   "id": "7a470f65",
   "metadata": {},
   "outputs": [],
   "source": [
    "def get_db_tokens(address,chain,key):\n",
    "    url = 'https://pro-openapi.debank.com/v1/user/token_list?id='+address+'&chain_id='+chain\n",
    "    headers= {\n",
    "        'accept': 'application/json',\n",
    "        'AccessKey': key\n",
    "    }\n",
    "    return requests.get(url,headers=headers).text"
   ]
  },
  {
   "cell_type": "code",
   "execution_count": 841,
   "id": "33aec59d",
   "metadata": {},
   "outputs": [],
   "source": [
    "eth_wallet_1 = get_db_tokens('0xe3d9988f676457123c5fd01297605efdd0cba1ae','eth',debank_key)\n",
    "eth_wallet_2 = get_db_tokens('0x464C71f6c2F760DdA6093dCB91C24c39e5d6e18c','eth',debank_key)\n",
    "polygon_wallet = get_db_tokens('0x7734280a4337f37fbf4651073db7c28c80b339e9','matic',debank_key)\n",
    "avax_wallet = get_db_tokens('0x467b92af281d14cb6809913ad016a607b5ba8a36','avax',debank_key)"
   ]
  },
  {
   "cell_type": "code",
   "execution_count": 842,
   "id": "90b733a0",
   "metadata": {},
   "outputs": [],
   "source": [
    "ew1 = pd.DataFrame(json.loads(eth_wallet_1))[['symbol','protocol_id','is_wallet','amount']]\n",
    "ew2 = pd.DataFrame(json.loads(eth_wallet_2))[['symbol','protocol_id','is_wallet','amount']]\n",
    "pw1 = pd.DataFrame(json.loads(polygon_wallet))[['symbol','protocol_id','is_wallet','amount']]\n",
    "aw1 = pd.DataFrame(json.loads(avax_wallet))[['symbol','protocol_id','is_wallet','amount']]"
   ]
  },
  {
   "cell_type": "code",
   "execution_count": 843,
   "id": "0fc4fc83",
   "metadata": {},
   "outputs": [],
   "source": [
    "#v1 \n",
    "v1_one = ew1.loc[(ew1['is_wallet']) & (ew1['symbol'].isin(all_symbols))][['symbol','amount']]\n",
    "v1_two = ew2.loc[(ew2['is_wallet']) & (ew2['symbol'].isin(all_symbols))][['symbol','amount']]\n",
    "v1_bal = v1_one.merge(v1_two,on='symbol',how='outer').fillna(0)\n",
    "v1_bal['total_amount'] = v1_bal['amount_x'] + v1_bal['amount_y']\n",
    "v1_bal = v1_bal[['symbol','total_amount']]\n",
    "df = df.merge(v1_bal,on='symbol',how='left')\n",
    "df['V1 Ecosystem Collection'] = df['total_amount']\n",
    "df = df.drop(columns='total_amount').fillna(0)"
   ]
  },
  {
   "cell_type": "code",
   "execution_count": 844,
   "id": "69646132",
   "metadata": {},
   "outputs": [
    {
     "name": "stderr",
     "output_type": "stream",
     "text": [
      "/var/folders/_n/tn6737qj6tg3h8j4vjr026ww0000gn/T/ipykernel_73047/836371185.py:3: SettingWithCopyWarning: \n",
      "A value is trying to be set on a copy of a slice from a DataFrame.\n",
      "Try using .loc[row_indexer,col_indexer] = value instead\n",
      "\n",
      "See the caveats in the documentation: https://pandas.pydata.org/pandas-docs/stable/user_guide/indexing.html#returning-a-view-versus-a-copy\n",
      "  temp['symbol'] = temp['symbol'].apply(lambda x: x[1:] if x[0] == 'a' else x)\n"
     ]
    }
   ],
   "source": [
    "#v2\n",
    "temp = ew2.loc[ew2['protocol_id'] == 'aave2']\n",
    "temp['symbol'] = temp['symbol'].apply(lambda x: x[1:] if x[0] == 'a' else x)\n",
    "temp = temp[['symbol','amount']]\n",
    "temp.loc[temp['symbol'] == 'WETH',['symbol']] = 'ETH'\n",
    "df = df.merge(temp,on='symbol',how='left')\n",
    "df['V2 Ecosystem Collection'] = df['amount']\n",
    "df = df.drop(columns='amount').fillna(0)"
   ]
  },
  {
   "cell_type": "code",
   "execution_count": 845,
   "id": "d9817661",
   "metadata": {},
   "outputs": [
    {
     "name": "stderr",
     "output_type": "stream",
     "text": [
      "/var/folders/_n/tn6737qj6tg3h8j4vjr026ww0000gn/T/ipykernel_73047/4081523412.py:3: SettingWithCopyWarning: \n",
      "A value is trying to be set on a copy of a slice from a DataFrame.\n",
      "Try using .loc[row_indexer,col_indexer] = value instead\n",
      "\n",
      "See the caveats in the documentation: https://pandas.pydata.org/pandas-docs/stable/user_guide/indexing.html#returning-a-view-versus-a-copy\n",
      "  temp['symbol'] = temp['symbol'].str.replace('aAmm','')\n"
     ]
    }
   ],
   "source": [
    "#amm\n",
    "temp = ew2.loc[ew2['protocol_id'] == 'aave_amm']\n",
    "temp['symbol'] = temp['symbol'].str.replace('aAmm','')\n",
    "temp = temp[['symbol','amount']]\n",
    "temp.loc[temp['symbol'] == 'WETH',['symbol']] = 'ETH'\n",
    "df = df.merge(temp,on='symbol',how='left')\n",
    "df['amm Ecosystem Collection'] = df['amount']\n",
    "df = df.drop(columns='amount').fillna(0)"
   ]
  },
  {
   "cell_type": "code",
   "execution_count": 846,
   "id": "deaaf56a",
   "metadata": {},
   "outputs": [
    {
     "name": "stderr",
     "output_type": "stream",
     "text": [
      "/var/folders/_n/tn6737qj6tg3h8j4vjr026ww0000gn/T/ipykernel_73047/836370197.py:3: SettingWithCopyWarning: \n",
      "A value is trying to be set on a copy of a slice from a DataFrame.\n",
      "Try using .loc[row_indexer,col_indexer] = value instead\n",
      "\n",
      "See the caveats in the documentation: https://pandas.pydata.org/pandas-docs/stable/user_guide/indexing.html#returning-a-view-versus-a-copy\n",
      "  temp['symbol'] = temp['symbol'].str.replace('am','')\n"
     ]
    }
   ],
   "source": [
    "#poly\n",
    "temp = pw1.loc[pw1['protocol_id'] == 'matic_aave']\n",
    "temp['symbol'] = temp['symbol'].str.replace('am','')\n",
    "temp = temp[['symbol','amount']]\n",
    "temp.loc[temp['symbol'] == 'WETH',['symbol']] = 'ETH'\n",
    "temp.loc[temp['symbol'] == 'WMATIC',['symbol']] = 'MATIC'\n",
    "df = df.merge(temp,on='symbol',how='left')\n",
    "df['polygon Ecosystem Collection'] = df['amount']\n",
    "df = df.drop(columns='amount').fillna(0)"
   ]
  },
  {
   "cell_type": "code",
   "execution_count": 847,
   "id": "e3ca57e3",
   "metadata": {},
   "outputs": [],
   "source": [
    "#avax\n",
    "temp = aw1.loc[aw1['protocol_id'] == 'avax_aave']\n",
    "temp['symbol'] = temp['symbol'].str.replace('av','')\n",
    "temp = temp[['symbol','amount']]\n",
    "temp.loc[temp['symbol'] == 'WETH',['symbol']] = 'ETH'\n",
    "df = df.merge(temp,on='symbol',how='left')\n",
    "df['avax Ecosystem Collection'] = df['amount']\n",
    "df = df.drop(columns='amount').fillna(0)"
   ]
  },
  {
   "cell_type": "code",
   "execution_count": 848,
   "id": "a10a9676",
   "metadata": {},
   "outputs": [],
   "source": [
    "df['Total Collections'] = (df['V1 Ecosystem Collection']+\n",
    "                           df['V2 Ecosystem Collection']+\n",
    "                           df['amm Ecosystem Collection']+\n",
    "                           df['polygon Ecosystem Collection']+\n",
    "                           df['avax Ecosystem Collection']\n",
    "                          )"
   ]
  },
  {
   "cell_type": "code",
   "execution_count": 849,
   "id": "a75dd294",
   "metadata": {},
   "outputs": [],
   "source": [
    "df['Percentage of Total Collections USD'] = (df['Total Collections'] * df['this_week_price_usd']) / ((df['Total Collections'] * df['this_week_price_usd']).sum())"
   ]
  },
  {
   "cell_type": "code",
   "execution_count": 850,
   "id": "af8d47ce",
   "metadata": {},
   "outputs": [],
   "source": [
    "df['TVL Safety Module + Ecosystem Reserve'] = ((df['polygon Reserve Factor Accrued USD'] + ((df['V1 Ecosystem Collection']+df['V2 Ecosystem Collection']) * df['this_week_price_usd']))/((df['polygon Reserve Factor Accrued USD'].sum()+((df['V1 Ecosystem Collection']+df['V2 Ecosystem Collection']) * df['this_week_price_usd']).sum())))"
   ]
  },
  {
   "cell_type": "code",
   "execution_count": 851,
   "id": "7b1428bf",
   "metadata": {},
   "outputs": [],
   "source": [
    "TVL_per_coin = (df['Available Liquidity V1'] + df['Available Liquidity V2'] + (df['polygon Reserve Factor Accrued USD'] + ((df['V1 Ecosystem Collection']+df['V2 Ecosystem Collection']) * df['this_week_price_usd'])))\n",
    "                                                                                                                      "
   ]
  },
  {
   "cell_type": "code",
   "execution_count": 852,
   "id": "5109219d",
   "metadata": {},
   "outputs": [],
   "source": [
    "df['Share of TVL'] = TVL_per_coin/TVL_per_coin.sum()"
   ]
  },
  {
   "cell_type": "markdown",
   "id": "2b5b734a",
   "metadata": {},
   "source": [
    "# AAVE Weekly text"
   ]
  },
  {
   "cell_type": "code",
   "execution_count": 853,
   "id": "25c46568",
   "metadata": {},
   "outputs": [],
   "source": [
    "millnames = ['',' Thousand',' Million',' Billion',' Trillion']\n",
    "\n",
    "def millify(n):\n",
    "    n = float(n)\n",
    "    millidx = max(0,min(len(millnames)-1,\n",
    "                        int(math.floor(0 if n == 0 else math.log10(abs(n))/3))))\n",
    "    return '{:.1f}{}'.format(n / 10**(3 * millidx), millnames[millidx]).replace('.0','')"
   ]
  },
  {
   "cell_type": "code",
   "execution_count": 854,
   "id": "fa8104da",
   "metadata": {},
   "outputs": [],
   "source": [
    "week = millify(dd.strftime('%U'))\n",
    "year = dd.strftime('%Y')"
   ]
  },
  {
   "cell_type": "code",
   "execution_count": 855,
   "id": "32a4a460",
   "metadata": {},
   "outputs": [],
   "source": [
    "total_liquidity_usd_rounded = millify(df['Total Liquidity'].sum())"
   ]
  },
  {
   "cell_type": "code",
   "execution_count": 856,
   "id": "8e7ca0ae",
   "metadata": {},
   "outputs": [],
   "source": [
    "utalization_rounded = (df['Total Borrows USD'].sum() / df['Total Liquidity'].sum()).round(3)*100"
   ]
  },
  {
   "cell_type": "code",
   "execution_count": 857,
   "id": "1c3c4e99",
   "metadata": {},
   "outputs": [],
   "source": [
    "interst_for_depositors_rounded = millify((df['V1 Interests USD'] +\n",
    "                          df['V2 Interests USD'] +\n",
    "                          df['amm Interests USD'] +\n",
    "                          df['polygon Interests USD'] +\n",
    "                          df['avax Interests USD']\n",
    "                         ).sum())"
   ]
  },
  {
   "cell_type": "code",
   "execution_count": 858,
   "id": "d10fdbe8",
   "metadata": {},
   "outputs": [],
   "source": [
    "flashloan_volume_rounded = millify((df['V1 Flashloans USD'] +\n",
    "                          df['V2 Flashloans USD'] +\n",
    "                          df['amm Flashloans USD'] +\n",
    "                          df['polygon Flashloans USD'] +\n",
    "                          df['avax Flashloans USD']\n",
    "                         ).sum())"
   ]
  },
  {
   "cell_type": "code",
   "execution_count": 859,
   "id": "21e13f66",
   "metadata": {},
   "outputs": [],
   "source": [
    "flashloan_fees_rounded = millify((df['V1 Flashloans Fees USD'] +\n",
    "                          df['V2 Flashloans Fees USD'] +\n",
    "                          df['amm Flashloans Fees USD'] +\n",
    "                          df['polygon Flashloans Fees USD'] +\n",
    "                          df['avax Flashloans Fees USD']\n",
    "                         ).sum())"
   ]
  },
  {
   "cell_type": "code",
   "execution_count": 860,
   "id": "2f5c3ea2",
   "metadata": {},
   "outputs": [],
   "source": [
    "total_liquidations_rounded  = millify(df['Total Liquidations'].sum())"
   ]
  },
  {
   "cell_type": "code",
   "execution_count": 861,
   "id": "55849d81",
   "metadata": {},
   "outputs": [],
   "source": [
    "total_bonus_rounded = millify(df['Total Bonus USD'].sum())"
   ]
  },
  {
   "cell_type": "code",
   "execution_count": 871,
   "id": "18a53dfb",
   "metadata": {},
   "outputs": [],
   "source": [
    "ecosystem_collector_increase_rounded = millify((df['V2 Reserve USD'] +\n",
    "                          df['amm Reserve USD'] +\n",
    "                          df['polygon Reserve USD'] +\n",
    "                          df['avax Reserve USD'] +\n",
    "                          (df['V1 Flashloans Fees USD'] * .3) \n",
    "                         ).sum())"
   ]
  },
  {
   "cell_type": "code",
   "execution_count": 874,
   "id": "71a98e79",
   "metadata": {},
   "outputs": [],
   "source": [
    "total_ecosystem_collector_rounded = millify(df['Total Collections'].sum())"
   ]
  },
  {
   "cell_type": "code",
   "execution_count": 876,
   "id": "48ecc7a8",
   "metadata": {},
   "outputs": [],
   "source": [
    "income_generated_by_protocol = millify((df['V1 Interests USD'] +\n",
    "                          df['V2 Interests USD'] +\n",
    "                          df['amm Interests USD'] +\n",
    "                          df['polygon Interests USD'] +\n",
    "                          df['avax Interests USD'] +\n",
    "                          df['V1 Flashloans Fees USD'] +\n",
    "                          df['V2 Flashloans Fees USD'] +\n",
    "                          df['amm Flashloans Fees USD'] +\n",
    "                          df['polygon Flashloans Fees USD'] +\n",
    "                          df['avax Flashloans Fees USD'] +\n",
    "                          df['Total Bonus USD'].sum() +\n",
    "                          df['V2 Reserve USD'] +\n",
    "                          df['amm Reserve USD'] +\n",
    "                          df['polygon Reserve USD'] +\n",
    "                          df['avax Reserve USD'] +\n",
    "                         (df['V1 Flashloans Fees USD'] * .3)\n",
    "                                        \n",
    "                         ).sum())"
   ]
  },
  {
   "cell_type": "code",
   "execution_count": 885,
   "id": "123d9729",
   "metadata": {},
   "outputs": [],
   "source": [
    "stkAAVE_distribution_rounded = millify(((df['V2 Depositor LM'] +\n",
    "                                        df['V2 Borrower LM']\n",
    "                                       ) * df['this_week_price_usd']).sum())"
   ]
  },
  {
   "cell_type": "code",
   "execution_count": 887,
   "id": "52a5d03b",
   "metadata": {},
   "outputs": [],
   "source": [
    "WAVAX_distribution_rounded = millify(((df['avax Depositor LM'] +\n",
    "                                        df['avax Borrower LM']\n",
    "                                       ) * df['this_week_price_usd']).sum())"
   ]
  },
  {
   "cell_type": "code",
   "execution_count": 891,
   "id": "4b0adebe",
   "metadata": {},
   "outputs": [
    {
     "name": "stdout",
     "output_type": "stream",
     "text": [
      "The Aave Protocol closes week 8 of 2022 with $17.2 Billion of liquidity:\n",
      "+ 35.5% Utilisation, generating $1.1 Million of estimated interest for depositors\n",
      "+ $-2 Million of Flash Loan volume, generating $-1.8 Thousand of fees for depositors\n",
      "+ $-69.2 Thousand liquidated, generating $1.3 Thousand of fees to liquidators\n",
      "+ $132.2 Thousand for the ecosystem collectors now holding $40.9 Million\n",
      "→ $1.3 Million generated by the protocol this week \n",
      "→ With an additional $7.8 Million $StkAAVE & $31.9 Million $WAVAX distributed\n",
      "*at the weekly close price\n",
      "\n"
     ]
    }
   ],
   "source": [
    "print(f\"\"\"The Aave Protocol closes week {week} of {year} with ${total_liquidity_usd_rounded} of liquidity:\n",
    "+ {utalization_rounded}% Utilisation, generating ${interst_for_depositors_rounded} of estimated interest for depositors\n",
    "+ ${flashloan_volume_rounded} of Flash Loan volume, generating ${flashloan_fees_rounded} of fees for depositors\n",
    "+ ${total_liquidations_rounded} liquidated, generating ${total_bonus_rounded} of fees to liquidators\n",
    "+ ${ecosystem_collector_increase_rounded} for the ecosystem collectors now holding ${total_ecosystem_collector_rounded}\n",
    "→ ${income_generated_by_protocol} generated by the protocol this week \n",
    "→ With an additional ${stkAAVE_distribution_rounded} $StkAAVE & ${WAVAX_distribution_rounded} $WAVAX distributed\n",
    "*at the weekly close price\n",
    "\"\"\")"
   ]
  }
 ],
 "metadata": {
  "kernelspec": {
   "display_name": "Python 3 (ipykernel)",
   "language": "python",
   "name": "python3"
  },
  "language_info": {
   "codemirror_mode": {
    "name": "ipython",
    "version": 3
   },
   "file_extension": ".py",
   "mimetype": "text/x-python",
   "name": "python",
   "nbconvert_exporter": "python",
   "pygments_lexer": "ipython3",
   "version": "3.9.7"
  }
 },
 "nbformat": 4,
 "nbformat_minor": 5
}
